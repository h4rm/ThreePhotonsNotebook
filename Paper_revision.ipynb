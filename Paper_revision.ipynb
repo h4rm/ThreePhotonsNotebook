{
 "cells": [
  {
   "cell_type": "markdown",
   "metadata": {},
   "source": [
    "# Paper Revision (September - December 2017)\n",
    "In this Notebook, most of the calculations for the revision of the paper have been carried out."
   ]
  },
  {
   "cell_type": "code",
   "execution_count": 4,
   "metadata": {
    "collapsed": false
   },
   "outputs": [
    {
     "data": {
      "text/html": [
       "<div id=\"interact-js-shim\">\n",
       "    <script charset=\"utf-8\">\n",
       "(function (IPython, $, _, MathJax) {\n",
       "    $.event.special.destroyed = {\n",
       "\tremove: function(o) {\n",
       "\t    if (o.handler) {\n",
       "\t\to.handler.apply(this, arguments)\n",
       "\t    }\n",
       "\t}\n",
       "    }\n",
       "\n",
       "    var OutputArea = IPython.version >= \"4.0.0\" ? require(\"notebook/js/outputarea\").OutputArea : IPython.OutputArea;\n",
       "\n",
       "    var redrawValue = function (container, type, val) {\n",
       "\tvar selector = $(\"<div/>\");\n",
       "\tvar oa = new OutputArea(_.extend(selector, {\n",
       "\t    selector: selector,\n",
       "\t    prompt_area: true,\n",
       "\t    events: IPython.events,\n",
       "\t    keyboard_manager: IPython.keyboard_manager\n",
       "\t})); // Hack to work with IPython 2.1.0\n",
       "\n",
       "\tswitch (type) {\n",
       "\tcase \"image/png\":\n",
       "            var _src = 'data:' + type + ';base64,' + val;\n",
       "\t    $(container).find(\"img\").attr('src', _src);\n",
       "\t    break;\n",
       "\tcase \"text/latex\":\n",
       "\t\tif (MathJax){\n",
       "\t\t\tvar math = MathJax.Hub.getAllJax(container)[0];\n",
       "\t\t\tMathJax.Hub.Queue([\"Text\", math, val.replace(/^\\${1,2}|\\${1,2}$/g, '')]);\n",
       "\t\t\tbreak;\n",
       "\t\t}\n",
       "\tdefault:\n",
       "\t    var toinsert = OutputArea.append_map[type].apply(\n",
       "\t\toa, [val, {}, selector]\n",
       "\t    );\n",
       "\t    $(container).empty().append(toinsert.contents());\n",
       "\t    selector.remove();\n",
       "\t}\n",
       "    }\n",
       "\n",
       "\n",
       "    $(document).ready(function() {\n",
       "\tfunction initComm(evt, data) {\n",
       "\t    var comm_manager = data.kernel.comm_manager;\n",
       "        //_.extend(comm_manager.targets, require(\"widgets/js/widget\"))\n",
       "\t    comm_manager.register_target(\"Signal\", function (comm) {\n",
       "            comm.on_msg(function (msg) {\n",
       "                var val = msg.content.data.value;\n",
       "                $(\".signal-\" + comm.comm_id).each(function() {\n",
       "                var type = $(this).data(\"type\");\n",
       "                if (typeof(val[type]) !== \"undefined\" && val[type] !== null) {\n",
       "                    redrawValue(this, type, val[type], type);\n",
       "                }\n",
       "                });\n",
       "                delete val;\n",
       "                delete msg.content.data.value;\n",
       "            });\n",
       "\t    });\n",
       "\n",
       "\t    // coordingate with Comm and redraw Signals\n",
       "\t    // XXX: Test using Reactive here to improve performance\n",
       "\t    $([IPython.events]).on(\n",
       "\t\t'output_appended.OutputArea', function (event, type, value, md, toinsert) {\n",
       "\t\t    if (md && md.reactive) {\n",
       "                // console.log(md.comm_id);\n",
       "                toinsert.addClass(\"signal-\" + md.comm_id);\n",
       "                toinsert.data(\"type\", type);\n",
       "                // Signal back indicating the mimetype required\n",
       "                var comm_manager = IPython.notebook.kernel.comm_manager;\n",
       "                var comm = comm_manager.comms[md.comm_id];\n",
       "                comm.then(function (c) {\n",
       "                    c.send({action: \"subscribe_mime\",\n",
       "                       mime: type});\n",
       "                    toinsert.bind(\"destroyed\", function() {\n",
       "                        c.send({action: \"unsubscribe_mime\",\n",
       "                               mime: type});\n",
       "                    });\n",
       "                })\n",
       "\t\t    }\n",
       "\t    });\n",
       "\t}\n",
       "\n",
       "\ttry {\n",
       "\t    // try to initialize right away. otherwise, wait on the status_started event.\n",
       "\t    initComm(undefined, IPython.notebook);\n",
       "\t} catch (e) {\n",
       "\t    $([IPython.events]).on('kernel_created.Kernel kernel_created.Session', initComm);\n",
       "\t}\n",
       "    });\n",
       "})(IPython, jQuery, _, MathJax);\n",
       "</script>\n",
       "    <script>\n",
       "        window.interactLoadedFlag = true\n",
       "       $(\"#interact-js-shim\").bind(\"destroyed\", function () {\n",
       "           if (window.interactLoadedFlag) {\n",
       "               console.warn(\"JavaScript required by Interact will be removed if you remove this cell or run using Interact more than once.\")\n",
       "           }\n",
       "       })\n",
       "       $([IPython.events]).on(\"kernel_starting.Kernel kernel_restarting.Kernel\", function () { window.interactLoadedFlag = false })\n",
       "   </script>\n",
       "</div>"
      ]
     },
     "metadata": {},
     "output_type": "display_data"
    },
    {
     "data": {
      "text/plain": [
       "\"/Users/ben/Documents/biophysics/projects/reconstruction/data\""
      ]
     },
     "execution_count": 4,
     "metadata": {},
     "output_type": "execute_result"
    }
   ],
   "source": [
    "#Preparation of environment\n",
    "using ThreePhotons\n",
    "include(\"paper.jl\")\n",
    "#For Development:\n",
    "using ClobberingReload\n",
    "using ProgressMeter\n",
    "using HDF5\n",
    "using PyPlot\n",
    "using Images\n",
    "using Interact\n",
    "# creload(ThreePhotons)\n",
    "data_dir = \"/Users/ben/Documents/biophysics/projects/reconstruction/data\""
   ]
  },
  {
   "cell_type": "markdown",
   "metadata": {},
   "source": [
    "# Real Data"
   ]
  },
  {
   "cell_type": "code",
   "execution_count": 5,
   "metadata": {
    "collapsed": false
   },
   "outputs": [
    {
     "data": {
      "text/plain": [
       "Dict{String,Any} with 4 entries:\n",
       "  \"pnccdBack\" => Dict{String,Any}(Pair{String,Any}(\"adu\",Float32[0.0 0.0 … 0.0 …\n",
       "  \"event\"     => UInt32[0x00000025,0x00000045,0x00000065,0x0000006e,0x00000091,…\n",
       "  \"eventTime\" => UInt64[0x55c174233910a0e3,0x55c174240d57ebc2,0x55c174241d3a150…\n",
       "  \"fiducials\" => UInt32[0x0001a49c,0x0001a4fc,0x0001a55c,0x0001a577,0x0001a5e0,…"
      ]
     },
     "execution_count": 5,
     "metadata": {},
     "output_type": "execute_result"
    }
   ],
   "source": [
    "photonConverter = h5open(\"../../../data/exp_data/Coliphage/amo86615_194_PR772_single.h5\", \"r\") do file\n",
    "    read(file[\"photonConverter\"])\n",
    "end"
   ]
  },
  {
   "cell_type": "code",
   "execution_count": 6,
   "metadata": {
    "collapsed": false
   },
   "outputs": [
    {
     "name": "stderr",
     "output_type": "stream",
     "text": [
      "WARNING: Method definition plot_exp_image(Any) in module Main at In[3]:2 overwritten at In[6]:2.\n"
     ]
    },
    {
     "data": {
      "text/plain": [
       "plot_exp_image (generic function with 1 method)"
      ]
     },
     "execution_count": 6,
     "metadata": {},
     "output_type": "execute_result"
    }
   ],
   "source": [
    "function plot_exp_image(image)\n",
    "    fig = imshow(image, cmap=\"viridis\")\n",
    "    axis(\"off\")\n",
    "    fig[:axes][:get_xaxis]()[:set_visible](false)\n",
    "    fig[:axes][:get_yaxis]()[:set_visible](false)\n",
    "end"
   ]
  },
  {
   "cell_type": "code",
   "execution_count": 7,
   "metadata": {
    "collapsed": false
   },
   "outputs": [
    {
     "data": {
      "text/html": [
       "397828.922"
      ],
      "text/plain": [
       "397828.922"
      ]
     },
     "execution_count": 7,
     "metadata": {},
     "output_type": "execute_result"
    }
   ],
   "source": [
    "#Calculate average photon count\n",
    "mean([sumabs(photonConverter[\"pnccdBack\"][\"photonCount\"][:,:,i]) for i = 1:500])"
   ]
  },
  {
   "cell_type": "code",
   "execution_count": 8,
   "metadata": {
    "collapsed": false
   },
   "outputs": [
    {
     "ename": "LoadError",
     "evalue": "DimensionMismatch(\"matrix is not square\")",
     "output_type": "error",
     "traceback": [
      "DimensionMismatch(\"matrix is not square\")",
      "",
      " in checksquare(::Array{Float64,2}) at ./linalg/linalg.jl:196",
      " in ^(::Array{Float64,2}, ::Float64) at ./linalg/dense.jl:163",
      " in include_string(::String, ::String) at ./loading.jl:441",
      " in include_string(::String, ::String) at /Applications/Julia-0.5.app/Contents/Resources/julia/lib/julia/sys.dylib:?"
     ]
    }
   ],
   "source": [
    "image1 = convert(Array{Float64},photonConverter[\"pnccdBack\"][\"photonCount\"][:,:,3])\n",
    "imshow(image1^(0.25), cmap=\"hot\")\n",
    "println(\"done\")"
   ]
  },
  {
   "cell_type": "code",
   "execution_count": 9,
   "metadata": {
    "collapsed": false
   },
   "outputs": [
    {
     "data": {
      "image/png": "[encoded data removed]",
      "text/plain": [
       "PyPlot.Figure(PyObject <matplotlib.figure.Figure object at 0x332f9b150>)"
      ]
     },
     "metadata": {},
     "output_type": "display_data"
    },
    {
     "name": "stderr",
     "output_type": "stream",
     "text": [
      "WARNING: ImageMetadata.Image is deprecated, use ImageMetadata.ImageMeta instead.\n",
      "  likely near In[9]:2\n"
     ]
    },
    {
     "data": {
      "text/plain": [
       "PyObject <matplotlib.image.AxesImage object at 0x32efd4610>"
      ]
     },
     "execution_count": 9,
     "metadata": {},
     "output_type": "execute_result"
    }
   ],
   "source": [
    "#Experiment what happens if we Gauss-filter the images before resizing...no significant change happens\n",
    "img = convert(Images.Image,image1)\n",
    "sz = 2*38+1\n",
    "σ = [0.1*Base.size(img)[1]/sz, 0.1*Base.size(img)[2]/sz]\n",
    "kern = KernelFactors.gaussian(σ)   # from ImageFiltering\n",
    "imgr = imresize(imfilter(img, kern, NA()), sz, sz).^0.25\n",
    "imshow(imgr, cmap=\"hot\")"
   ]
  },
  {
   "cell_type": "code",
   "execution_count": 11,
   "metadata": {
    "collapsed": false,
    "scrolled": true
   },
   "outputs": [
    {
     "name": "stdout",
     "output_type": "stream",
     "text": [
      "Loaded NaN doublets and NaN triplets from /Users/ben/Documents/biophysics/projects/reconstruction/data/output_owl/exp_data/coliphage_K2_40_K3_30_N32_processed/histo.dat generated from 14368 pictures.\n",
      "Done\n"
     ]
    }
   ],
   "source": [
    "c2_coliphage_with_beamstop_sym,_,c3_coliphage_with_beamstop_sym,_,c1_coliphage_with_beamstop_sym = loadHistograms(1,1,\"/Users/ben/Documents/biophysics/projects/reconstruction/data/output_owl/exp_data/coliphage_K2_40_K3_30_N32_processed/histo.dat\")\n",
    "println(\"Done\")"
   ]
  },
  {
   "cell_type": "code",
   "execution_count": 12,
   "metadata": {
    "collapsed": false
   },
   "outputs": [
    {
     "data": {
      "text/plain": [
       "(12,25,32,20,38,0.06981317007977318,7.5)"
      ]
     },
     "execution_count": 12,
     "metadata": {},
     "output_type": "execute_result"
    }
   ],
   "source": [
    "#detector edges = 11.6 nm\n",
    "#photon energy 1.6 keV = 7.5 Angstrom\n",
    "L,LMAX,N,K3,K2,qm,lambda = 12,25,32,20,38,2*pi/90.0,7.5"
   ]
  },
  {
   "cell_type": "code",
   "execution_count": 14,
   "metadata": {
    "collapsed": false
   },
   "outputs": [
    {
     "name": "stdout",
     "output_type": "stream",
     "text": [
      "Extracting solution over K2_range=4:24 with K2=21 and L=10 and qmax=0.06981317007977318.\n",
      "10 4 24 0.02706875849041492\n",
      "Extracting solution over K2_range=4:28 with K2=25 and L=10 and qmax=0.06981317007977318.\n",
      "10 4 28 0.05409370165802632\n",
      "Extracting solution over K2_range=4:32 with K2=29 and L=10 and qmax=0.06981317007977318.\n",
      "10 4 32 0.10532060824236938\n",
      "Extracting solution over K2_range=4:36 with K2=33 and L=10 and qmax=0.06981317007977318.\n",
      "10 4 36 0.1663838255654974\n",
      "Extracting solution over K2_range=6:28 with K2=23 and L=10 and qmax=0.06981317007977318.\n",
      "10 6 28 0.018575108743168364\n",
      "Extracting solution over K2_range=6:32 with K2=27 and L=10 and qmax=0.06981317007977318.\n",
      "10 6 32 0.032783038896998726\n",
      "Extracting solution over K2_range=6:36 with K2=31 and L=10 and qmax=0.06981317007977318.\n",
      "10 6 36 0.043342326784709416\n",
      "Extracting solution over K2_range=8:28 with K2=21 and L=10 and qmax=0.06981317007977318.\n",
      "10 8 28 0.023198094936234474\n",
      "Extracting solution over K2_range=8:32 with K2=25 and L=10 and qmax=0.06981317007977318.\n",
      "10 8 32 0.03737280844925362\n",
      "Extracting solution over K2_range=8:36 with K2=29 and L=10 and qmax=0.06981317007977318.\n",
      "10 8 36 0.04103771448032787\n",
      "Extracting solution over K2_range=10:32 with K2=23 and L=10 and qmax=0.06981317007977318.\n",
      "10 10 32 0.035712940144385884\n",
      "Extracting solution over K2_range=10:36 with K2=27 and L=10 and qmax=0.06981317007977318.\n",
      "10 10 36 0.044945181111104\n",
      "Extracting solution over K2_range=4:28 with K2=25 and L=12 and qmax=0.06981317007977318.\n",
      "12 4 28 0.053430985087477546\n",
      "Extracting solution over K2_range=4:32 with K2=29 and L=12 and qmax=0.06981317007977318.\n",
      "12 4 32 0.10228110840860036\n",
      "Extracting solution over K2_range=4:36 with K2=33 and L=12 and qmax=0.06981317007977318.\n",
      "12 4 36 0.16028195154519928\n",
      "Extracting solution over K2_range=6:32 with K2=27 and L=12 and qmax=0.06981317007977318.\n",
      "12 6 32 0.045538569608752806\n",
      "Extracting solution over K2_range=6:36 with K2=31 and L=12 and qmax=0.06981317007977318.\n",
      "12 6 36 0.06207294294746556\n",
      "Extracting solution over K2_range=8:32 with K2=25 and L=12 and qmax=0.06981317007977318.\n",
      "12 8 32 0.04443162231602025\n",
      "Extracting solution over K2_range=8:36 with K2=29 and L=12 and qmax=0.06981317007977318.\n",
      "12 8 36 0.056566074027943676\n",
      "Extracting solution over K2_range=10:36 with K2=27 and L=12 and qmax=0.06981317007977318.\n",
      "12 10 36 0.044204450400422465\n",
      "Done\n"
     ]
    }
   ],
   "source": [
    "for L in [10,12]\n",
    "    for low_K in 4:2:10\n",
    "        for K2 in 20:4:36\n",
    "            K_range=low_K:K2\n",
    "            if L >= length(K_range)/2\n",
    "                continue\n",
    "            end\n",
    "            intensity_coliphage_beamstop = retrieveSolution(c2_coliphage_with_beamstop_sym,Integer(L),LMAX, K_range, qm, lambda)\n",
    "            c2_coliphage_beamstop_theo = twoPhotons(intensity_coliphage_beamstop, BasisType(N,L,LMAX,K3,lambda,qm/K2), K2, true, false)\n",
    "            s = c2_difference(c2_coliphage_with_beamstop_sym, c2_coliphage_beamstop_theo, K_range)\n",
    "            println(\"$L $(low_K) $K2 $(s)\")\n",
    "        end\n",
    "    end\n",
    "end\n",
    "println(\"Done\")"
   ]
  },
  {
   "cell_type": "code",
   "execution_count": 15,
   "metadata": {
    "collapsed": false
   },
   "outputs": [
    {
     "name": "stdout",
     "output_type": "stream",
     "text": [
      "Extracting solution over K2_range=6:28 with K2=23 and L=10 and qmax=0.06981317007977318.\n"
     ]
    },
    {
     "data": {
      "text/html": [
       "0.018575108743168364"
      ],
      "text/plain": [
       "0.018575108743168364"
      ]
     },
     "execution_count": 15,
     "metadata": {},
     "output_type": "execute_result"
    }
   ],
   "source": [
    "L = 10\n",
    "K_range = 6:28\n",
    "K2 = maximum(K_range)\n",
    "intensity_coliphage_beamstop = retrieveSolution(c2_coliphage_with_beamstop_sym, Integer(L),LMAX, K_range, qm, lambda)\n",
    "c2_coliphage_beamstop_theo = twoPhotons(intensity_coliphage_beamstop, BasisType(N,L,LMAX,K3,lambda,qm/K2), K2, true, false)\n",
    "c2_difference(c2_coliphage_with_beamstop_sym, c2_coliphage_beamstop_theo, K_range)"
   ]
  },
  {
   "cell_type": "code",
   "execution_count": 16,
   "metadata": {
    "collapsed": false,
    "scrolled": false
   },
   "outputs": [
    {
     "data": {
      "text/html": [],
      "text/plain": [
       "Interact.Options{:SelectionSlider,Any}(1: \"input\" = 20 Any ,\"k1\",20,\"20\",20,Interact.OptionDict(DataStructures.OrderedDict{Any,Any}(\"1\"=>1,\"2\"=>2,\"3\"=>3,\"4\"=>4,\"5\"=>5,\"6\"=>6,\"7\"=>7,\"8\"=>8,\"9\"=>9,\"10\"=>10…),Dict{Any,Any}(Pair{Any,Any}(18,\"18\"),Pair{Any,Any}(30,\"30\"),Pair{Any,Any}(33,\"33\"),Pair{Any,Any}(32,\"32\"),Pair{Any,Any}(2,\"2\"),Pair{Any,Any}(40,\"40\"),Pair{Any,Any}(16,\"16\"),Pair{Any,Any}(11,\"11\"),Pair{Any,Any}(21,\"21\"),Pair{Any,Any}(39,\"39\")…)),Any[],Any[],true,\"horizontal\")"
      ]
     },
     "metadata": {},
     "output_type": "display_data"
    },
    {
     "data": {
      "text/html": [],
      "text/plain": [
       "Interact.Options{:SelectionSlider,Any}(3: \"input-2\" = 20 Any ,\"k2\",20,\"20\",20,Interact.OptionDict(DataStructures.OrderedDict{Any,Any}(\"1\"=>1,\"2\"=>2,\"3\"=>3,\"4\"=>4,\"5\"=>5,\"6\"=>6,\"7\"=>7,\"8\"=>8,\"9\"=>9,\"10\"=>10…),Dict{Any,Any}(Pair{Any,Any}(18,\"18\"),Pair{Any,Any}(30,\"30\"),Pair{Any,Any}(33,\"33\"),Pair{Any,Any}(32,\"32\"),Pair{Any,Any}(2,\"2\"),Pair{Any,Any}(40,\"40\"),Pair{Any,Any}(16,\"16\"),Pair{Any,Any}(11,\"11\"),Pair{Any,Any}(21,\"21\"),Pair{Any,Any}(39,\"39\")…)),Any[],Any[],true,\"horizontal\")"
      ]
     },
     "metadata": {},
     "output_type": "display_data"
    },
    {
     "data": {
      "text/html": [],
      "text/plain": [
       "Interact.Checkbox(5: \"input-3\" = true Bool ,\"normalization\",true)"
      ]
     },
     "metadata": {},
     "output_type": "display_data"
    },
    {
     "data": {
      "image/png": "[encoded data removed]",
      "text/plain": [
       "PyPlot.Figure(PyObject <matplotlib.figure.Figure object at 0x32ee047d0>)"
      ]
     },
     "execution_count": 16,
     "metadata": {
      "comm_id": "7b74567a-add4-4009-a98d-ec2614baf59f",
      "reactive": true
     },
     "output_type": "execute_result"
    }
   ],
   "source": [
    "plot_random_2photon_slices(Dict(\n",
    "#         \"c2_average_intensity\"=>c2_average_intensity,\n",
    "        \"c2_coliphage_with_beamstop_sym\"=>c2_coliphage_with_beamstop_sym,\n",
    "        \"c2_coliphage_beamstop_theo\"=>c2_coliphage_beamstop_theo,\n",
    "        ))"
   ]
  },
  {
   "cell_type": "code",
   "execution_count": 19,
   "metadata": {
    "collapsed": false
   },
   "outputs": [
    {
     "name": "stdout",
     "output_type": "stream",
     "text": [
      "Calculating complex basis with N=32 L=10 K=20 (LMAX=25, lambda=7.5, dq=0.0024933275028490424).\n",
      "Calculation complete (11841 basislen).\n",
      "Done\n"
     ]
    }
   ],
   "source": [
    "basis = calculate_basis(L,LMAX,N,K3,lambda,qm/K2)\n",
    "println(\"Done\")"
   ]
  },
  {
   "cell_type": "code",
   "execution_count": 21,
   "metadata": {
    "collapsed": false
   },
   "outputs": [
    {
     "name": "stdout",
     "output_type": "stream",
     "text": [
      "Loaded\n"
     ]
    }
   ],
   "source": [
    "average_intensity = deserializeFromFile(\"/Users/ben/Documents/biophysics/projects/reconstruction/data/output_owl/exp_data/coliphage_determination_rerun_K2_4_24_K3_4_24_L10/1000/state.dat\")[\"intensity\"]\n",
    "println(\"Loaded\")"
   ]
  },
  {
   "cell_type": "code",
   "execution_count": 22,
   "metadata": {
    "collapsed": false
   },
   "outputs": [
    {
     "name": "stdout",
     "output_type": "stream",
     "text": [
      "done\n"
     ]
    }
   ],
   "source": [
    "#FullCorrelation_parallized(intensity::SphericalHarmonicsVolume, basis::BasisType, minimal::Bool=true, normalize::Bool=false, return_raw::Bool=false)\n",
    "c3_theo = FullCorrelation_parallized(average_intensity, basis)\n",
    "println(\"done\")"
   ]
  },
  {
   "cell_type": "code",
   "execution_count": 24,
   "metadata": {
    "collapsed": false
   },
   "outputs": [
    {
     "data": {
      "text/html": [],
      "text/plain": [
       "Interact.Options{:SelectionSlider,Any}(17: \"input-8\" = 10 Any ,\"k1\",10,\"10\",10,Interact.OptionDict(DataStructures.OrderedDict{Any,Any}(\"1\"=>1,\"2\"=>2,\"3\"=>3,\"4\"=>4,\"5\"=>5,\"6\"=>6,\"7\"=>7,\"8\"=>8,\"9\"=>9,\"10\"=>10…),Dict{Any,Any}(Pair{Any,Any}(18,\"18\"),Pair{Any,Any}(2,\"2\"),Pair{Any,Any}(16,\"16\"),Pair{Any,Any}(11,\"11\"),Pair{Any,Any}(7,\"7\"),Pair{Any,Any}(9,\"9\"),Pair{Any,Any}(10,\"10\"),Pair{Any,Any}(19,\"19\"),Pair{Any,Any}(17,\"17\"),Pair{Any,Any}(8,\"8\")…)),Any[],Any[],true,\"horizontal\")"
      ]
     },
     "metadata": {},
     "output_type": "display_data"
    },
    {
     "data": {
      "text/html": [],
      "text/plain": [
       "Interact.Options{:SelectionSlider,Any}(19: \"input-9\" = 10 Any ,\"k2\",10,\"10\",10,Interact.OptionDict(DataStructures.OrderedDict{Any,Any}(\"1\"=>1,\"2\"=>2,\"3\"=>3,\"4\"=>4,\"5\"=>5,\"6\"=>6,\"7\"=>7,\"8\"=>8,\"9\"=>9,\"10\"=>10…),Dict{Any,Any}(Pair{Any,Any}(18,\"18\"),Pair{Any,Any}(2,\"2\"),Pair{Any,Any}(16,\"16\"),Pair{Any,Any}(11,\"11\"),Pair{Any,Any}(7,\"7\"),Pair{Any,Any}(9,\"9\"),Pair{Any,Any}(10,\"10\"),Pair{Any,Any}(19,\"19\"),Pair{Any,Any}(17,\"17\"),Pair{Any,Any}(8,\"8\")…)),Any[],Any[],true,\"horizontal\")"
      ]
     },
     "metadata": {},
     "output_type": "display_data"
    },
    {
     "data": {
      "text/html": [],
      "text/plain": [
       "Interact.Options{:SelectionSlider,Any}(21: \"input-10\" = 10 Any ,\"k3\",10,\"10\",10,Interact.OptionDict(DataStructures.OrderedDict{Any,Any}(\"1\"=>1,\"2\"=>2,\"3\"=>3,\"4\"=>4,\"5\"=>5,\"6\"=>6,\"7\"=>7,\"8\"=>8,\"9\"=>9,\"10\"=>10…),Dict{Any,Any}(Pair{Any,Any}(18,\"18\"),Pair{Any,Any}(2,\"2\"),Pair{Any,Any}(16,\"16\"),Pair{Any,Any}(11,\"11\"),Pair{Any,Any}(7,\"7\"),Pair{Any,Any}(9,\"9\"),Pair{Any,Any}(10,\"10\"),Pair{Any,Any}(19,\"19\"),Pair{Any,Any}(17,\"17\"),Pair{Any,Any}(8,\"8\")…)),Any[],Any[],true,\"horizontal\")"
      ]
     },
     "metadata": {},
     "output_type": "display_data"
    },
    {
     "data": {
      "text/html": [],
      "text/plain": [
       "Interact.Checkbox(23: \"input-11\" = true Bool ,\"normalization\",true)"
      ]
     },
     "metadata": {},
     "output_type": "display_data"
    },
    {
     "data": {
      "image/png": "[encoded data removed]",
      "text/plain": [
       "PyPlot.Figure(PyObject <matplotlib.figure.Figure object at 0x35bfe1750>)"
      ]
     },
     "execution_count": 24,
     "metadata": {
      "comm_id": "61a34a45-1fca-47da-a249-eba724edba4b",
      "reactive": true
     },
     "output_type": "execute_result"
    }
   ],
   "source": [
    "plot_random_3photon_slices(Dict(\n",
    "        \"c3_theo\"=>c3_theo,\n",
    "        \"c3_coliphage_with_beamstop_sym\"=>c3_coliphage_with_beamstop_sym\n",
    "        ), 0.0)"
   ]
  },
  {
   "cell_type": "markdown",
   "metadata": {},
   "source": [
    "### Completing the Core"
   ]
  },
  {
   "cell_type": "code",
   "execution_count": 1,
   "metadata": {
    "collapsed": false
   },
   "outputs": [
    {
     "name": "stderr",
     "output_type": "stream",
     "text": [
      "\u001b[1m\u001b[34mINFO: Recompiling stale cache file /Users/ben/.julia/lib/v0.5/CoordinateTransformations.ji for module CoordinateTransformations.\n",
      "\u001b[0m\u001b[1m\u001b[34mINFO: Recompiling stale cache file /Users/ben/.julia/lib/v0.5/Images.ji for module Images.\n",
      "\u001b[0m\u001b[1m\u001b[34mINFO: Recompiling stale cache file /Users/ben/.julia/lib/v0.5/Interact.ji for module Interact.\n",
      "\u001b[0m"
     ]
    },
    {
     "data": {
      "text/html": [
       "<div id=\"interact-js-shim\">\n",
       "    <script charset=\"utf-8\">\n",
       "(function (IPython, $, _, MathJax) {\n",
       "    $.event.special.destroyed = {\n",
       "\tremove: function(o) {\n",
       "\t    if (o.handler) {\n",
       "\t\to.handler.apply(this, arguments)\n",
       "\t    }\n",
       "\t}\n",
       "    }\n",
       "\n",
       "    var OutputArea = IPython.version >= \"4.0.0\" ? require(\"notebook/js/outputarea\").OutputArea : IPython.OutputArea;\n",
       "\n",
       "    var redrawValue = function (container, type, val) {\n",
       "\tvar selector = $(\"<div/>\");\n",
       "\tvar oa = new OutputArea(_.extend(selector, {\n",
       "\t    selector: selector,\n",
       "\t    prompt_area: true,\n",
       "\t    events: IPython.events,\n",
       "\t    keyboard_manager: IPython.keyboard_manager\n",
       "\t})); // Hack to work with IPython 2.1.0\n",
       "\n",
       "\tswitch (type) {\n",
       "\tcase \"image/png\":\n",
       "            var _src = 'data:' + type + ';base64,' + val;\n",
       "\t    $(container).find(\"img\").attr('src', _src);\n",
       "\t    break;\n",
       "\tcase \"text/latex\":\n",
       "\t\tif (MathJax){\n",
       "\t\t\tvar math = MathJax.Hub.getAllJax(container)[0];\n",
       "\t\t\tMathJax.Hub.Queue([\"Text\", math, val.replace(/^\\${1,2}|\\${1,2}$/g, '')]);\n",
       "\t\t\tbreak;\n",
       "\t\t}\n",
       "\tdefault:\n",
       "\t    var toinsert = OutputArea.append_map[type].apply(\n",
       "\t\toa, [val, {}, selector]\n",
       "\t    );\n",
       "\t    $(container).empty().append(toinsert.contents());\n",
       "\t    selector.remove();\n",
       "\t}\n",
       "    }\n",
       "\n",
       "\n",
       "    $(document).ready(function() {\n",
       "\tfunction initComm(evt, data) {\n",
       "\t    var comm_manager = data.kernel.comm_manager;\n",
       "        //_.extend(comm_manager.targets, require(\"widgets/js/widget\"))\n",
       "\t    comm_manager.register_target(\"Signal\", function (comm) {\n",
       "            comm.on_msg(function (msg) {\n",
       "                var val = msg.content.data.value;\n",
       "                $(\".signal-\" + comm.comm_id).each(function() {\n",
       "                var type = $(this).data(\"type\");\n",
       "                if (typeof(val[type]) !== \"undefined\" && val[type] !== null) {\n",
       "                    redrawValue(this, type, val[type], type);\n",
       "                }\n",
       "                });\n",
       "                delete val;\n",
       "                delete msg.content.data.value;\n",
       "            });\n",
       "\t    });\n",
       "\n",
       "\t    // coordingate with Comm and redraw Signals\n",
       "\t    // XXX: Test using Reactive here to improve performance\n",
       "\t    $([IPython.events]).on(\n",
       "\t\t'output_appended.OutputArea', function (event, type, value, md, toinsert) {\n",
       "\t\t    if (md && md.reactive) {\n",
       "                // console.log(md.comm_id);\n",
       "                toinsert.addClass(\"signal-\" + md.comm_id);\n",
       "                toinsert.data(\"type\", type);\n",
       "                // Signal back indicating the mimetype required\n",
       "                var comm_manager = IPython.notebook.kernel.comm_manager;\n",
       "                var comm = comm_manager.comms[md.comm_id];\n",
       "                comm.then(function (c) {\n",
       "                    c.send({action: \"subscribe_mime\",\n",
       "                       mime: type});\n",
       "                    toinsert.bind(\"destroyed\", function() {\n",
       "                        c.send({action: \"unsubscribe_mime\",\n",
       "                               mime: type});\n",
       "                    });\n",
       "                })\n",
       "\t\t    }\n",
       "\t    });\n",
       "\t}\n",
       "\n",
       "\ttry {\n",
       "\t    // try to initialize right away. otherwise, wait on the status_started event.\n",
       "\t    initComm(undefined, IPython.notebook);\n",
       "\t} catch (e) {\n",
       "\t    $([IPython.events]).on('kernel_created.Kernel kernel_created.Session', initComm);\n",
       "\t}\n",
       "    });\n",
       "})(IPython, jQuery, _, MathJax);\n",
       "</script>\n",
       "    <script>\n",
       "        window.interactLoadedFlag = true\n",
       "       $(\"#interact-js-shim\").bind(\"destroyed\", function () {\n",
       "           if (window.interactLoadedFlag) {\n",
       "               console.warn(\"JavaScript required by Interact will be removed if you remove this cell or run using Interact more than once.\")\n",
       "           }\n",
       "       })\n",
       "       $([IPython.events]).on(\"kernel_starting.Kernel kernel_restarting.Kernel\", function () { window.interactLoadedFlag = false })\n",
       "   </script>\n",
       "</div>"
      ]
     },
     "metadata": {},
     "output_type": "display_data"
    },
    {
     "name": "stderr",
     "output_type": "stream",
     "text": [
      "\u001b[1m\u001b[34mINFO: Recompiling stale cache file /Users/ben/.julia/lib/v0.5/ClobberingReload.ji for module ClobberingReload.\n",
      "\u001b[0m"
     ]
    },
    {
     "data": {
      "text/plain": [
       "\"/Users/ben/Documents/biophysics/projects/reconstruction/data\""
      ]
     },
     "execution_count": 1,
     "metadata": {},
     "output_type": "execute_result"
    }
   ],
   "source": [
    "#Preparation of environment\n",
    "using ThreePhotons\n",
    "include(\"paper.jl\")\n",
    "#For Development:\n",
    "using ClobberingReload\n",
    "using ProgressMeter\n",
    "using HDF5\n",
    "using PyPlot\n",
    "using Images\n",
    "using Interact\n",
    "# creload(ThreePhotons)\n",
    "data_dir = \"/Users/ben/Documents/biophysics/projects/reconstruction/data\""
   ]
  },
  {
   "cell_type": "code",
   "execution_count": 525,
   "metadata": {
    "collapsed": false
   },
   "outputs": [
    {
     "name": "stdout",
     "output_type": "stream",
     "text": [
      "Loaded NaN doublets and NaN triplets from /Users/ben/Documents/biophysics/projects/reconstruction/data/output_owl/exp_data/coliphage_K2_40_K3_30_N32_processed/histo.dat generated from 14368 pictures.\n",
      "Done\n"
     ]
    }
   ],
   "source": [
    "c2_coliphage_with_beamstop_sym,_,c3_coliphage_with_beamstop_sym,_,c1_coliphage_with_beamstop_sym = loadHistograms(1,1,\"/Users/ben/Documents/biophysics/projects/reconstruction/data/output_owl/exp_data/coliphage_K2_40_K3_30_N32_processed/histo.dat\")\n",
    "println(\"Done\")"
   ]
  },
  {
   "cell_type": "code",
   "execution_count": 545,
   "metadata": {
    "collapsed": false
   },
   "outputs": [
    {
     "name": "stderr",
     "output_type": "stream",
     "text": [
      "\u001b[1m\u001b[34mINFO: Reloading ThreePhotons\n",
      "\u001b[0m\u001b[1m\u001b[31m\u001b[1m\u001b[31m\u001b[1m\u001b[31m\u001b[1m\u001b[31m\u001b[1m\u001b[31m\u001b[1m\u001b[31m\u001b[1m\u001b[31m\u001b[1m\u001b[31m\u001b[1m\u001b[31m\u001b[1m\u001b[31m\u001b[1m\u001b[31m\u001b[1m\u001b[31m\u001b[1m\u001b[31m\u001b[1m\u001b[31m\u001b[1m\u001b[31m\u001b[1m\u001b[31m\u001b[1m\u001b[31m\u001b[1m\u001b[31m\u001b[1m\u001b[31m\u001b[1m\u001b[31m\u001b[1m\u001b[31m\u001b[1m\u001b[31m\u001b[1m\u001b[31m\u001b[1m\u001b[31m\u001b[1m\u001b[31m\u001b[1m\u001b[31m\u001b[1m\u001b[31m\u001b[1m\u001b[31m\u001b[1m\u001b[31m\u001b[1m\u001b[31m\u001b[1m\u001b[31m\u001b[1m\u001b[31m\u001b[1m\u001b[31m\u001b[1m\u001b[31m\u001b[1m\u001b[31m\u001b[1m\u001b[31m\u001b[1m\u001b[31m\u001b[1m\u001b[31m\u001b[1m\u001b[31m\u001b[1m\u001b[31m\u001b[1m\u001b[31m\u001b[1m\u001b[31m\u001b[1m\u001b[31m\u001b[1m\u001b[31m\u001b[1m\u001b[31m\u001b[1m\u001b[31m\u001b[1m\u001b[31m\u001b[1m\u001b[31m\u001b[1m\u001b[31m\u001b[1m\u001b[31m\u001b[1m\u001b[31m\u001b[1m\u001b[31m\u001b[1m\u001b[31m\u001b[1m\u001b[31m\u001b[1m\u001b[31m\u001b[1m\u001b[31m\u001b[1m\u001b[31m\u001b[1m\u001b[31m\u001b[1m\u001b[31m\u001b[1m\u001b[31m\u001b[1m\u001b[31m\u001b[1m\u001b[31m\u001b[1m\u001b[31m\u001b[1m\u001b[31m\u001b[1m\u001b[31m\u001b[1m\u001b[31m\u001b[1m\u001b[31m\u001b[1m\u001b[31m\u001b[1m\u001b[31m\u001b[1m\u001b[31m\u001b[1m\u001b[31m\u001b[1m\u001b[31m\u001b[1m\u001b[31m\u001b[1m\u001b[31m\u001b[1m\u001b[31m\u001b[1m\u001b[31m\u001b[1m\u001b[31m\u001b[1m\u001b[31m\u001b[1m\u001b[31m\u001b[1m\u001b[31m\u001b[1m\u001b[31m\u001b[1m\u001b[31m\u001b[1m\u001b[31m\u001b[1m\u001b[31m\u001b[1m\u001b[31m\u001b[1m\u001b[31m\u001b[1m\u001b[31m\u001b[1m\u001b[31m\u001b[1m\u001b[31m\u001b[1m\u001b[31m\u001b[1m\u001b[31m\u001b[1m\u001b[31m\u001b[1m\u001b[31m\u001b[1m\u001b[31m\u001b[1m\u001b[31m\u001b[1m\u001b[31m\u001b[1m\u001b[31m\u001b[1m\u001b[31m\u001b[1m\u001b[31m\u001b[1m\u001b[31m\u001b[1m\u001b[31m\u001b[1m\u001b[31m\u001b[1m\u001b[31m\u001b[1m\u001b[31m\u001b[1m\u001b[31m\u001b[1m\u001b[31m\u001b[1m\u001b[31m\u001b[1m\u001b[31m\u001b[1m\u001b[31m\u001b[1m\u001b[31m\u001b[1m\u001b[31m\u001b[1m\u001b[31m\u001b[1m\u001b[31m\u001b[1m\u001b[31m\u001b[1m\u001b[31m\u001b[1m\u001b[31m\u001b[1m\u001b[31m\u001b[1m\u001b[31m\u001b[1m\u001b[31m\u001b[1m\u001b[31m\u001b[1m\u001b[31m\u001b[1m\u001b[31m\u001b[1m\u001b[31m\u001b[1m\u001b[31m\u001b[1m\u001b[31m\u001b[1m\u001b[31m\u001b[1m\u001b[31m\u001b[1m\u001b[31m\u001b[1m\u001b[31m\u001b[1m\u001b[31m\u001b[1m\u001b[31m\u001b[1m\u001b[31m\u001b[1m\u001b[31m\u001b[1m\u001b[31m\u001b[1m\u001b[31m\u001b[1m\u001b[31m\u001b[1m\u001b[31m\u001b[1m\u001b[31m\u001b[1m\u001b[31m\u001b[1m\u001b[31m\u001b[1m\u001b[31m\u001b[1m\u001b[31m\u001b[1m\u001b[31m\u001b[1m\u001b[31m\u001b[1m\u001b[31m\u001b[1m\u001b[31m\u001b[1m\u001b[31m\u001b[1m\u001b[31m\u001b[1m\u001b[31m\u001b[1m\u001b[31m\u001b[1m\u001b[31m\u001b[1m\u001b[31m\u001b[1m\u001b[31m\u001b[1m\u001b[31m\u001b[1m\u001b[31m\u001b[1m\u001b[31m\u001b[1m\u001b[31m\u001b[1m\u001b[31m\u001b[1m\u001b[31m\u001b[1m\u001b[31m\u001b[1m\u001b[31m\u001b[1m\u001b[31m\u001b[1m\u001b[31m\u001b[1m\u001b[31m\u001b[1m\u001b[31m\u001b[1m\u001b[31m\u001b[1m\u001b[31m\u001b[1m\u001b[31m\u001b[1m\u001b[31m\u001b[1m\u001b[31m\u001b[1m\u001b[31m"
     ]
    },
    {
     "data": {
      "text/plain": [
       "\"ThreePhotons\""
      ]
     },
     "execution_count": 545,
     "metadata": {},
     "output_type": "execute_result"
    }
   ],
   "source": [
    "creload(\"ThreePhotons\")"
   ]
  },
  {
   "cell_type": "code",
   "execution_count": 546,
   "metadata": {
    "collapsed": false
   },
   "outputs": [
    {
     "name": "stdout",
     "output_type": "stream",
     "text": [
      "Saving cube to intensity_averaged.mrc with cubesize=77\n",
      "shfit = -10.300393261427415\n",
      "Saving cube to intensity_averaged_corrected.mrc with cubesize=77\n"
     ]
    },
    {
     "data": {
      "image/png": "[encoded data removed]",
      "text/plain": [
       "PyPlot.Figure(PyObject <matplotlib.figure.Figure object at 0x34d905390>)"
      ]
     },
     "metadata": {},
     "output_type": "display_data"
    },
    {
     "data": {
      "image/png": "[encoded data removed]",
      "text/plain": [
       "PyPlot.Figure(PyObject <matplotlib.figure.Figure object at 0x36a3bb510>)"
      ]
     },
     "metadata": {},
     "output_type": "display_data"
    },
    {
     "name": "stdout",
     "output_type": "stream",
     "text": [
      "done\n"
     ]
    }
   ],
   "source": [
    "extended_corrected_intensity = complete_core(\"../../../data/output_owl/exp_data/coliphage_determination_rerun_K2_5_38_K3_5_28_L12_fitted\", c1_coliphage_with_beamstop_sym, 1:4, 5:28, plotting=true)\n",
    "# averaged_density = phase_completed_intensity(extended_corrected_intensity, \"coliphage_determination_paper_lowrange_2_fitted\", 8)\n",
    "println(\"done\")"
   ]
  },
  {
   "cell_type": "markdown",
   "metadata": {
    "collapsed": false
   },
   "source": [
    "## Phase completed intensity"
   ]
  },
  {
   "cell_type": "code",
   "execution_count": 110,
   "metadata": {
    "collapsed": false
   },
   "outputs": [
    {
     "name": "stdout",
     "output_type": "stream",
     "text": [
      "Done\n"
     ]
    }
   ],
   "source": [
    "#Best so far\n",
    "averaged_density = loadCube(\"../../../data/output_owl/exp_data/coliphage_determination_paper_K2_10_36_K3_10_26_L10_fitted_phased_center_1_9_fit_3_10/b0.99/density_averaged.mrc\")\n",
    "\n",
    "#exp_data/coliphage_determination_paper_K2_10_36_K3_10_26_fitted_phased_center_1_9_fit_3_10/b0.99/density_averaged.mrc\n",
    "println(\"Done\")"
   ]
  },
  {
   "cell_type": "code",
   "execution_count": 116,
   "metadata": {
    "collapsed": false
   },
   "outputs": [
    {
     "data": {
      "image/png": "[encoded data removed]",
      "text/plain": [
       "PyPlot.Figure(PyObject <matplotlib.figure.Figure object at 0x326f91fd0>)"
      ]
     },
     "metadata": {},
     "output_type": "display_data"
    }
   ],
   "source": [
    "plot_slice = function(data::Matrix{Float64})\n",
    "    fig = imshow(data, cmap=\"gnuplot2\", interpolation=\"bicubic\")\n",
    "    fig[:axes][:get_xaxis]()[:set_visible](false)\n",
    "    fig[:axes][:get_yaxis]()[:set_visible](false)\n",
    "    axis(\"off\")\n",
    "end\n",
    "\n",
    "center = ceil(Int64, Base.size(averaged_density.cube)[1]/2.0)\n",
    "width = 8\n",
    "subplot(1,3,1)\n",
    "plot_slice(real(averaged_density.cube[center-width:center+width, center ,center-width:center+width]))\n",
    "subplot(1,3,2)\n",
    "plot_slice(real(averaged_density.cube[center, center-width:center+width ,center-width:center+width]))\n",
    "subplot(1,3,3)\n",
    "plot_slice(real(averaged_density.cube[center-width:center+width ,center-width:center+width, center]))\n",
    "tight_layout()\n",
    "savefig(\"paper/coliphage_slices.pdf\", bbox_inches=\"tight\")"
   ]
  },
  {
   "cell_type": "code",
   "execution_count": 26,
   "metadata": {
    "collapsed": false,
    "scrolled": false
   },
   "outputs": [
    {
     "ename": "LoadError",
     "evalue": "UndefVarError: c3ref_full not defined",
     "output_type": "error",
     "traceback": [
      "UndefVarError: c3ref_full not defined",
      "",
      " in include_string(::String, ::String) at ./loading.jl:441",
      " in include_string(::String, ::String) at /Applications/Julia-0.5.app/Contents/Resources/julia/lib/julia/sys.dylib:?"
     ]
    }
   ],
   "source": [
    "plot_random_3photon_slices(Dict(\"ref\"=>c3ref_full), 0.0)"
   ]
  },
  {
   "cell_type": "code",
   "execution_count": null,
   "metadata": {
    "collapsed": false
   },
   "outputs": [],
   "source": [
    "img = convert(Images.Image,convert(Array{Float64},c3ref_full[:,:,10,11,12]))\n",
    "imgg = imfilter(img, Kernel.gaussian(1.5))\n",
    "imshow(imgg, cmap=\"hot\")"
   ]
  },
  {
   "cell_type": "markdown",
   "metadata": {},
   "source": [
    "# Investigating Multi Particle Events"
   ]
  },
  {
   "cell_type": "code",
   "execution_count": null,
   "metadata": {
    "collapsed": false,
    "scrolled": true
   },
   "outputs": [],
   "source": [
    "#Preparation of environment\n",
    "using ThreePhotons\n",
    "include(\"paper.jl\")\n",
    "include(\"plotting.jl\")\n",
    "#For Development:\n",
    "using ClobberingReload\n",
    "using ProgressMeter\n",
    "# creload(ThreePhotons)\n",
    "data_dir = \"/Users/ben/Documents/biophysics/projects/reconstruction/data\""
   ]
  },
  {
   "cell_type": "code",
   "execution_count": null,
   "metadata": {
    "collapsed": false
   },
   "outputs": [],
   "source": [
    "L,LMAX,N,K3,K2,lambda = 18,25,32,20,38,4.0"
   ]
  },
  {
   "cell_type": "code",
   "execution_count": null,
   "metadata": {
    "collapsed": false
   },
   "outputs": [],
   "source": [
    "density_K38,fourier_K38,intensity_K38 = createSphericalHarmonicsStructure(\"/Users/ben/Documents/biophysics/projects/reconstruction/data/structures/crambin.pdb\", 25, 38, float(38))\n",
    "println(\"Done\")"
   ]
  },
  {
   "cell_type": "code",
   "execution_count": null,
   "metadata": {
    "collapsed": false
   },
   "outputs": [],
   "source": [
    "c2_single_full,c2_single,_,c3_single = loadHistograms(K3,K3, \"$(ENV[\"DETERMINATION_DATA\"])/output_owl/data_generation/SH_10p_N32_K38_R38.0_P3276800000/histo.dat\", false)\n",
    "c2_multi_full,c2_multi,_,c3_multi,c1_multi= loadHistograms(K3,K3, \"$(ENV[\"DETERMINATION_DATA\"])/output_owl/data_generation/multi_2_SH_10p_N32_K38_R38.0_P327680000/histo.dat\", true)\n",
    "println(\"Done loading\")"
   ]
  },
  {
   "cell_type": "code",
   "execution_count": null,
   "metadata": {
    "collapsed": true
   },
   "outputs": [],
   "source": []
  },
  {
   "cell_type": "code",
   "execution_count": null,
   "metadata": {
    "collapsed": false,
    "scrolled": false
   },
   "outputs": [],
   "source": [
    "#Can I make them congruent? Is there a linear transformation that does that?\n",
    "k1,k2 = 16,5\n",
    "p = 0.99-2.0\n",
    "# k1,k2 = 17,10\n",
    "# p1,p2 = 1.9, 0.005\n",
    "a = c2_single[:,k2,k1]\n",
    "b = c2_multi[:,k2,k1]\n",
    "mb = mean(b)\n",
    "ma = mean(a)\n",
    "# c = 1.0*a + 0.99*ma#(b - (0.99*mb))# mb*p\n",
    "c = a + ma\n",
    "plot(a/sumabs(a), \"o-\", color=\"blue\",label=\"single\")\n",
    "plot(b/sumabs(b), \"o-\", color=\"green\",label=\"multi\")\n",
    "plot(c/sumabs(c), \"o-\", color=\"orange\",label=\"single rec.\")\n",
    "legend()\n",
    "# plot([mean(a) for i=1:32], \"o-\", color=\"blue\")\n",
    "# plot([mean(b) for i=1:32], \"o-\", color=\"green\")"
   ]
  },
  {
   "cell_type": "code",
   "execution_count": null,
   "metadata": {
    "collapsed": false
   },
   "outputs": [],
   "source": [
    "creload(\"ThreePhotons\")"
   ]
  },
  {
   "cell_type": "code",
   "execution_count": null,
   "metadata": {
    "collapsed": false
   },
   "outputs": [],
   "source": [
    "c1_multi_theo = [real( 1.0/sqrt(16.0*pi^3)*getc(intensity_K38,k,0,0) ) for k = 1:K2]\n",
    "c2_single_theo = twoPhotons(intensity_K38, BasisType(N,L,LMAX,K3,0.0,dq(intensity_K38)), K2, true, false)\n",
    "intensity_K38_multi = deepcopy(intensity_K38)\n",
    "for k = 1:K2\n",
    "    setc(intensity_K38_multi,k,0,0, getc(intensity_K38_multi,k,0,0) + c1_multi_theo[k])\n",
    "end\n",
    "c2_multi_theo = twoPhotons(intensity_K38_multi, BasisType(N,L,LMAX,K3,0.0,dq(intensity_K38_multi)), K2, true, false)\n",
    "println(\"done\")"
   ]
  },
  {
   "cell_type": "code",
   "execution_count": null,
   "metadata": {
    "collapsed": false
   },
   "outputs": [],
   "source": [
    "c1 = 1/(8*pi^2)*(pi/2.0)*0.5*c1_multi/sumabs(c1_multi)#/1.3\n",
    "c2 = 1/(8*pi^2)*c2_multi_full/sumabs(c2_multi_full)#norm(reshape(c2_multi_full,N*K2^2))\n",
    "c2_single = c2_single_full\n",
    "\n",
    "# c1 = c1_multi_theo\n",
    "# c2 = c2_multi_theo\n",
    "# c2_single = c2_single_theo\n",
    "\n",
    "\n",
    "c2_single_retrieved = copy(c2)\n",
    "for k1=1:K2\n",
    "    for k2=1:k1\n",
    "        c2_single_retrieved[:,k2,k1] = c2[:,k2,k1] - ones(32)*c1[k1]*c1[k2]*3.0\n",
    "    end\n",
    "end\n",
    "\n",
    "plot_single_2photon_slice(Dict( \"single\"=>c2_single/sumabs(c2_single),\"single retrieved\"=>c2_single_retrieved/sumabs(c2_single_retrieved)), 10, 5, figure(), false)\n",
    "# plot_random_2photon_slices(Dict( \"single\"=>c2_single/sumabs(c2_single),\"single retrieved\"=>c2_single_retrieved/sumabs(c2_single_retrieved)))"
   ]
  },
  {
   "cell_type": "code",
   "execution_count": null,
   "metadata": {
    "collapsed": false
   },
   "outputs": [],
   "source": [
    "norm(c1_multi)"
   ]
  },
  {
   "cell_type": "code",
   "execution_count": null,
   "metadata": {
    "collapsed": false
   },
   "outputs": [],
   "source": [
    "sumabs(c1_multi)"
   ]
  },
  {
   "cell_type": "code",
   "execution_count": null,
   "metadata": {
    "collapsed": false
   },
   "outputs": [],
   "source": [
    "title(\"Radial sum of photons\")\n",
    "plot(c1_multi/sumabs(c1_multi), label=\"Surf single\")\n",
    "plot(c1_multi_theo/sumabs(c1_multi_theo), label=\"surf single theo\")\n",
    "ylabel(\"Sum of Radial Part\")\n",
    "xlabel(\"Shell\")\n",
    "legend()\n",
    "yscale(\"log\")"
   ]
  },
  {
   "cell_type": "markdown",
   "metadata": {},
   "source": [
    "# Save intensity of coliphage data"
   ]
  },
  {
   "cell_type": "code",
   "execution_count": null,
   "metadata": {
    "collapsed": false,
    "scrolled": true
   },
   "outputs": [],
   "source": [
    "for i = 1000:1019\n",
    "    dir = \"$(ENV[\"DETERMINATION_DATA\"])/output_owl/exp_data/coliphage_determination/$i\"\n",
    "    state = deserializeFromFile(\"$dir/state.dat\")\n",
    "    params = deserializeFromFile(\"$dir/params.dat\")\n",
    "    intensity = deleteTerms(state[\"intensity\"],params[\"K\"],params[\"L\"])\n",
    "    saveCube(intensity, \"$dir/unfitted_intensity.mrc\")\n",
    "end"
   ]
  },
  {
   "cell_type": "code",
   "execution_count": null,
   "metadata": {
    "collapsed": true
   },
   "outputs": [],
   "source": []
  },
  {
   "cell_type": "markdown",
   "metadata": {},
   "source": [
    "# Implement Ewald Sphere"
   ]
  },
  {
   "cell_type": "code",
   "execution_count": null,
   "metadata": {
    "collapsed": false
   },
   "outputs": [],
   "source": [
    "creload(ThreePhotons)"
   ]
  },
  {
   "cell_type": "code",
   "execution_count": null,
   "metadata": {
    "collapsed": false
   },
   "outputs": [],
   "source": [
    "# using ThreePhotons\n",
    "# using PyPlot\n",
    "# using ClobberingReload\n",
    "# density_K38,fourier_K38,intensity_K38 = createSphericalHarmonicsStructure(\"/Users/ben/Documents/biophysics/projects/reconstruction/data/structures/crambin.pdb\", 25, 38, float(38))\n",
    "surf = getSurfaceVolume(intensity_K38)\n",
    "println(\"done\")"
   ]
  },
  {
   "cell_type": "code",
   "execution_count": null,
   "metadata": {
    "collapsed": false
   },
   "outputs": [],
   "source": [
    "points_raw = pointsPerOrientation(surf, intensity_K38.rmax, intensity_K38.rmax/3.0, 50000)[1]\n",
    "points_raw_Ewald = [detector_to_Ewald_sphere(points_raw[i], 4.0) for i = 1:length(points_raw)]\n",
    "\n",
    "points_2d = [points_raw[i][j] for i = 1:length(points_raw),j=1:2]\n",
    "points_3d_Ewald = [points_raw_Ewald[i][j] for i = 1:length(points_raw_Ewald),j=1:3]\n",
    "println(\"done\")"
   ]
  },
  {
   "cell_type": "code",
   "execution_count": null,
   "metadata": {
    "collapsed": false
   },
   "outputs": [],
   "source": [
    "# scatter(points_2d[:,1], points_2d[:,2])\n",
    "xlim(-2.0, 2.0)\n",
    "ylim(-2.0, 2.0)\n",
    "zlim(0.0, 2.0)\n",
    "scatter3D(points_3d_Ewald[:,1], points_3d_Ewald[:,2], points_3d_Ewald[:,3])"
   ]
  },
  {
   "cell_type": "code",
   "execution_count": null,
   "metadata": {
    "collapsed": false
   },
   "outputs": [],
   "source": [
    "\"\"\"From an intensity cube, generates scattering data and plots it\"\"\"\n",
    "#noise::Noise=GaussianNoise(0.0, 0.0, false)\n",
    "function plot_scattering_image(intensity::CubeVolume, qmax::Float64, number_incident_photons::Integer; point_size::Float64=50.0, colorfill=\"red\", coloredge=\"black\")\n",
    "\n",
    "    p,rot = pointsPerOrientation(intensity, qmax, qmax/3.0, number_incident_photons)\n",
    "\n",
    "    #Plot underlying intensity\n",
    "    r = linspace(-qmax, qmax, intensity.cubesize)\n",
    "    myslice = Float64[getVolumeInterpolated(intensity, rot*detector_to_Ewald_sphere([-x,y,0.0])) for x=r,y=r]\n",
    "    myslice = (myslice).^(0.2)\n",
    "    # myslice = log(max(myslice, 1e-6))\n",
    "    # myslice = log(myslice)\n",
    "    fig = imshow(myslice, interpolation=\"hermite\", extent=[-qmax, qmax, -qmax, qmax], cmap=\"Blues\")\n",
    "\n",
    "    #Plot scattering photons\n",
    "    scatter( [p[i][2] for i=1:length(p)], [ p[i][1] for i=1:length(p)], c=colorfill, s=point_size, alpha=1.0, edgecolors=coloredge)#\n",
    "\n",
    "    #plot center\n",
    "    scatter([0.0], [0.0], marker=\"+\", alpha=1.0, s=100.0, color=\"red\")\n",
    "\n",
    "    fig[:axes][:get_xaxis]()[:set_visible](false)\n",
    "    fig[:axes][:get_yaxis]()[:set_visible](false)\n",
    "end"
   ]
  },
  {
   "cell_type": "code",
   "execution_count": null,
   "metadata": {
    "collapsed": false
   },
   "outputs": [],
   "source": [
    "plot_scattering_image(intensityCube_K38, intensityCube_K38.rmax, 1000)"
   ]
  },
  {
   "cell_type": "markdown",
   "metadata": {},
   "source": [
    "## Calculating correlations with Ewald sphere"
   ]
  },
  {
   "cell_type": "code",
   "execution_count": null,
   "metadata": {
    "collapsed": false
   },
   "outputs": [],
   "source": [
    "addprocs()"
   ]
  },
  {
   "cell_type": "code",
   "execution_count": null,
   "metadata": {
    "collapsed": false
   },
   "outputs": [],
   "source": [
    "creload(ThreePhotons)"
   ]
  },
  {
   "cell_type": "code",
   "execution_count": null,
   "metadata": {
    "collapsed": false,
    "scrolled": true
   },
   "outputs": [],
   "source": [
    "using ClobberingReload\n",
    "using ThreePhotons\n",
    "using PyPlot"
   ]
  },
  {
   "cell_type": "code",
   "execution_count": null,
   "metadata": {
    "collapsed": false
   },
   "outputs": [],
   "source": [
    "density_K38,fourier_K38,intensity_K38 = createSphericalHarmonicsStructure(\"/Users/ben/Documents/biophysics/projects/reconstruction/data/structures/crambin.pdb\", 25, 38, float(38))\n",
    "surf = getSurfaceVolume(intensity_K38)\n",
    "println(\"Done\")"
   ]
  },
  {
   "cell_type": "code",
   "execution_count": null,
   "metadata": {
    "collapsed": false
   },
   "outputs": [],
   "source": [
    "#function calculate_basis(L::Int64, LMAX::Int64, N::Int64, K::Int64, lambda::Float64, dq::Float64, forIntensity=true)\n",
    "LMAX=25\n",
    "# L,N,K = 18,32,26\n",
    "L,N,K = 4,4,4\n",
    "lambda=0.0\n",
    "dq=0.0\n",
    "@time basis = calculate_basis(L, LMAX, N, K, lambda, dq)\n",
    "println(\"Done\")"
   ]
  },
  {
   "cell_type": "code",
   "execution_count": null,
   "metadata": {
    "collapsed": false
   },
   "outputs": [],
   "source": [
    "CUDA_init()\n",
    "d_basis = CUDA_store_basis(basis, L, LMAX, N, K, lambda, dq)\n",
    "println(\"Done\")"
   ]
  },
  {
   "cell_type": "code",
   "execution_count": null,
   "metadata": {
    "collapsed": false
   },
   "outputs": [],
   "source": [
    "a = FullCorrelation_parallized(intensity_K38, d_basis, true, false, true)"
   ]
  },
  {
   "cell_type": "code",
   "execution_count": null,
   "metadata": {
    "collapsed": false
   },
   "outputs": [],
   "source": [
    "FullC3(intensity_K38, L, K, N, LMAX)"
   ]
  },
  {
   "cell_type": "markdown",
   "metadata": {},
   "source": [
    "# Investigating Ewald Sphere datasets"
   ]
  },
  {
   "cell_type": "code",
   "execution_count": null,
   "metadata": {
    "collapsed": false
   },
   "outputs": [],
   "source": [
    "addprocs()"
   ]
  },
  {
   "cell_type": "code",
   "execution_count": 1,
   "metadata": {
    "collapsed": false
   },
   "outputs": [
    {
     "data": {
      "text/html": [
       "<div id=\"interact-js-shim\">\n",
       "    <script charset=\"utf-8\">\n",
       "(function (IPython, $, _, MathJax) {\n",
       "    $.event.special.destroyed = {\n",
       "\tremove: function(o) {\n",
       "\t    if (o.handler) {\n",
       "\t\to.handler.apply(this, arguments)\n",
       "\t    }\n",
       "\t}\n",
       "    }\n",
       "\n",
       "    var OutputArea = IPython.version >= \"4.0.0\" ? require(\"notebook/js/outputarea\").OutputArea : IPython.OutputArea;\n",
       "\n",
       "    var redrawValue = function (container, type, val) {\n",
       "\tvar selector = $(\"<div/>\");\n",
       "\tvar oa = new OutputArea(_.extend(selector, {\n",
       "\t    selector: selector,\n",
       "\t    prompt_area: true,\n",
       "\t    events: IPython.events,\n",
       "\t    keyboard_manager: IPython.keyboard_manager\n",
       "\t})); // Hack to work with IPython 2.1.0\n",
       "\n",
       "\tswitch (type) {\n",
       "\tcase \"image/png\":\n",
       "            var _src = 'data:' + type + ';base64,' + val;\n",
       "\t    $(container).find(\"img\").attr('src', _src);\n",
       "\t    break;\n",
       "\tcase \"text/latex\":\n",
       "\t\tif (MathJax){\n",
       "\t\t\tvar math = MathJax.Hub.getAllJax(container)[0];\n",
       "\t\t\tMathJax.Hub.Queue([\"Text\", math, val.replace(/^\\${1,2}|\\${1,2}$/g, '')]);\n",
       "\t\t\tbreak;\n",
       "\t\t}\n",
       "\tdefault:\n",
       "\t    var toinsert = OutputArea.append_map[type].apply(\n",
       "\t\toa, [val, {}, selector]\n",
       "\t    );\n",
       "\t    $(container).empty().append(toinsert.contents());\n",
       "\t    selector.remove();\n",
       "\t}\n",
       "    }\n",
       "\n",
       "\n",
       "    $(document).ready(function() {\n",
       "\tfunction initComm(evt, data) {\n",
       "\t    var comm_manager = data.kernel.comm_manager;\n",
       "        //_.extend(comm_manager.targets, require(\"widgets/js/widget\"))\n",
       "\t    comm_manager.register_target(\"Signal\", function (comm) {\n",
       "            comm.on_msg(function (msg) {\n",
       "                var val = msg.content.data.value;\n",
       "                $(\".signal-\" + comm.comm_id).each(function() {\n",
       "                var type = $(this).data(\"type\");\n",
       "                if (typeof(val[type]) !== \"undefined\" && val[type] !== null) {\n",
       "                    redrawValue(this, type, val[type], type);\n",
       "                }\n",
       "                });\n",
       "                delete val;\n",
       "                delete msg.content.data.value;\n",
       "            });\n",
       "\t    });\n",
       "\n",
       "\t    // coordingate with Comm and redraw Signals\n",
       "\t    // XXX: Test using Reactive here to improve performance\n",
       "\t    $([IPython.events]).on(\n",
       "\t\t'output_appended.OutputArea', function (event, type, value, md, toinsert) {\n",
       "\t\t    if (md && md.reactive) {\n",
       "                // console.log(md.comm_id);\n",
       "                toinsert.addClass(\"signal-\" + md.comm_id);\n",
       "                toinsert.data(\"type\", type);\n",
       "                // Signal back indicating the mimetype required\n",
       "                var comm_manager = IPython.notebook.kernel.comm_manager;\n",
       "                var comm = comm_manager.comms[md.comm_id];\n",
       "                comm.then(function (c) {\n",
       "                    c.send({action: \"subscribe_mime\",\n",
       "                       mime: type});\n",
       "                    toinsert.bind(\"destroyed\", function() {\n",
       "                        c.send({action: \"unsubscribe_mime\",\n",
       "                               mime: type});\n",
       "                    });\n",
       "                })\n",
       "\t\t    }\n",
       "\t    });\n",
       "\t}\n",
       "\n",
       "\ttry {\n",
       "\t    // try to initialize right away. otherwise, wait on the status_started event.\n",
       "\t    initComm(undefined, IPython.notebook);\n",
       "\t} catch (e) {\n",
       "\t    $([IPython.events]).on('kernel_created.Kernel kernel_created.Session', initComm);\n",
       "\t}\n",
       "    });\n",
       "})(IPython, jQuery, _, MathJax);\n",
       "</script>\n",
       "    <script>\n",
       "        window.interactLoadedFlag = true\n",
       "       $(\"#interact-js-shim\").bind(\"destroyed\", function () {\n",
       "           if (window.interactLoadedFlag) {\n",
       "               console.warn(\"JavaScript required by Interact will be removed if you remove this cell or run using Interact more than once.\")\n",
       "           }\n",
       "       })\n",
       "       $([IPython.events]).on(\"kernel_starting.Kernel kernel_restarting.Kernel\", function () { window.interactLoadedFlag = false })\n",
       "   </script>\n",
       "</div>"
      ]
     },
     "metadata": {},
     "output_type": "display_data"
    },
    {
     "name": "stdout",
     "output_type": "stream",
     "text": [
      "done\n"
     ]
    }
   ],
   "source": [
    "#Preparation of environment\n",
    "using ThreePhotons\n",
    "using ClobberingReload\n",
    "include(\"paper.jl\")\n",
    "data_dir = \"/Users/ben/Documents/biophysics/projects/reconstruction/data\"\n",
    "println(\"done\")\n"
   ]
  },
  {
   "cell_type": "code",
   "execution_count": null,
   "metadata": {
    "collapsed": false
   },
   "outputs": [],
   "source": [
    "c2_ewald0_full,c2_ewald0,_,c3_ewald0 = loadHistograms(16, 16, \"$(ENV[\"DETERMINATION_DATA\"])/output_owl/data_generation/SH_10p_N32_K38_R38.0_P3276800000/histo.dat\", false)\n",
    "c2_ewald25_full,c2_ewald25,_,c3_ewald25,_ = loadHistograms(16, 16, \"$(ENV[\"DETERMINATION_DATA\"])/output_owl/data_generation/Ewald_large_SH_10p_N32_K2_38_K3_26_R38.0_P3276800000_lambda_2.5/histo.dat\", true)\n",
    "println(\"done\")"
   ]
  },
  {
   "cell_type": "code",
   "execution_count": 257,
   "metadata": {
    "collapsed": false
   },
   "outputs": [
    {
     "data": {
      "text/plain": [
       "(18,25,32,26,38,38.0,0.0,0.08267349088394192)"
      ]
     },
     "execution_count": 257,
     "metadata": {},
     "output_type": "execute_result"
    }
   ],
   "source": [
    "L,LMAX,N,K3,K2,rmax,lambda,mdq = 18,25,32,26,38,38.0,0.0,dq(intensity_K38)"
   ]
  },
  {
   "cell_type": "code",
   "execution_count": 4,
   "metadata": {
    "collapsed": false
   },
   "outputs": [
    {
     "name": "stdout",
     "output_type": "stream",
     "text": [
      "Initializing SH structure from /Users/ben/Documents/biophysics/projects/reconstruction/data/structures/crambin.pdb with LMAX=25, KMAX=38, rmax=38.0.\n",
      "done\n"
     ]
    }
   ],
   "source": [
    "density_K38,fourier_K38,intensity_K38 = createSphericalHarmonicsStructure(\"/Users/ben/Documents/biophysics/projects/reconstruction/data/structures/crambin.pdb\", LMAX, K2, float(K2))\n",
    "println(\"done\")"
   ]
  },
  {
   "cell_type": "code",
   "execution_count": 7,
   "metadata": {
    "collapsed": false
   },
   "outputs": [
    {
     "name": "stdout",
     "output_type": "stream",
     "text": [
      "Done\n"
     ]
    }
   ],
   "source": [
    "# basis = calculate_basis(L,LMAX,N,K3,lambda,dq(intensity_K38))\n",
    "println(\"Done\")"
   ]
  },
  {
   "cell_type": "code",
   "execution_count": 153,
   "metadata": {
    "collapsed": false
   },
   "outputs": [
    {
     "name": "stderr",
     "output_type": "stream",
     "text": [
      "\u001b[1m\u001b[34mINFO: Reloading ThreePhotons\n",
      "\u001b[0m\u001b[1m\u001b[31m\u001b[1m\u001b[31m\u001b[1m\u001b[31m\u001b[1m\u001b[31m\u001b[1m\u001b[31m\u001b[1m\u001b[31m\u001b[1m\u001b[31m\u001b[1m\u001b[31m\u001b[1m\u001b[31m\u001b[1m\u001b[31m\u001b[1m\u001b[31m\u001b[1m\u001b[31m\u001b[1m\u001b[31m\u001b[1m\u001b[31m\u001b[1m\u001b[31m\u001b[1m\u001b[31m\u001b[1m\u001b[31m\u001b[1m\u001b[31m\u001b[1m\u001b[31m\u001b[1m\u001b[31m\u001b[1m\u001b[31m\u001b[1m\u001b[31m\u001b[1m\u001b[31m\u001b[1m\u001b[31m\u001b[1m\u001b[31m\u001b[1m\u001b[31m\u001b[1m\u001b[31m\u001b[1m\u001b[31m\u001b[1m\u001b[31m\u001b[1m\u001b[31m\u001b[1m\u001b[31m\u001b[1m\u001b[31m\u001b[1m\u001b[31m\u001b[1m\u001b[31m\u001b[1m\u001b[31m\u001b[1m\u001b[31m\u001b[1m\u001b[31m\u001b[1m\u001b[31m\u001b[1m\u001b[31m\u001b[1m\u001b[31m\u001b[1m\u001b[31m\u001b[1m\u001b[31m\u001b[1m\u001b[31m\u001b[1m\u001b[31m\u001b[1m\u001b[31m\u001b[1m\u001b[31m\u001b[1m\u001b[31m\u001b[1m\u001b[31m\u001b[1m\u001b[31m\u001b[1m\u001b[31m\u001b[1m\u001b[31m\u001b[1m\u001b[31m\u001b[1m\u001b[31m\u001b[1m\u001b[31m\u001b[1m\u001b[31m\u001b[1m\u001b[31m\u001b[1m\u001b[31m\u001b[1m\u001b[31m\u001b[1m\u001b[31m\u001b[1m\u001b[31m\u001b[1m\u001b[31m\u001b[1m\u001b[31m\u001b[1m\u001b[31m\u001b[1m\u001b[31m\u001b[1m\u001b[31m\u001b[1m\u001b[31m\u001b[1m\u001b[31m\u001b[1m\u001b[31m\u001b[1m\u001b[31m\u001b[1m\u001b[31m\u001b[1m\u001b[31m\u001b[1m\u001b[31m\u001b[1m\u001b[31m\u001b[1m\u001b[31m\u001b[1m\u001b[31m\u001b[1m\u001b[31m\u001b[1m\u001b[31m\u001b[1m\u001b[31m\u001b[1m\u001b[31m\u001b[1m\u001b[31m\u001b[1m\u001b[31m\u001b[1m\u001b[31m\u001b[1m\u001b[31m\u001b[1m\u001b[31m\u001b[1m\u001b[31m\u001b[1m\u001b[31m\u001b[1m\u001b[31m\u001b[1m\u001b[31m\u001b[1m\u001b[31m\u001b[1m\u001b[31m\u001b[1m\u001b[31m\u001b[1m\u001b[31m\u001b[1m\u001b[31m\u001b[1m\u001b[31m\u001b[1m\u001b[31m\u001b[1m\u001b[31m\u001b[1m\u001b[31m\u001b[1m\u001b[31m\u001b[1m\u001b[31m\u001b[1m\u001b[31m\u001b[1m\u001b[31m\u001b[1m\u001b[31m\u001b[1m\u001b[31m\u001b[1m\u001b[31m\u001b[1m\u001b[31m\u001b[1m\u001b[31m\u001b[1m\u001b[31m\u001b[1m\u001b[31m\u001b[1m\u001b[31m\u001b[1m\u001b[31m\u001b[1m\u001b[31m\u001b[1m\u001b[31m\u001b[1m\u001b[31m\u001b[1m\u001b[31m\u001b[1m\u001b[31m\u001b[1m\u001b[31m\u001b[1m\u001b[31m\u001b[1m\u001b[31m\u001b[1m\u001b[31m\u001b[1m\u001b[31m\u001b[1m\u001b[31m\u001b[1m\u001b[31m\u001b[1m\u001b[31m\u001b[1m\u001b[31m\u001b[1m\u001b[31m\u001b[1m\u001b[31m\u001b[1m\u001b[31m\u001b[1m\u001b[31m\u001b[1m\u001b[31m\u001b[1m\u001b[31m\u001b[1m\u001b[31m\u001b[1m\u001b[31m\u001b[1m\u001b[31m\u001b[1m\u001b[31m\u001b[1m\u001b[31m\u001b[1m\u001b[31m\u001b[1m\u001b[31m\u001b[1m\u001b[31m\u001b[1m\u001b[31m\u001b[1m\u001b[31m\u001b[1m\u001b[31m\u001b[1m\u001b[31m\u001b[1m\u001b[31m\u001b[1m\u001b[31m\u001b[1m\u001b[31m\u001b[1m\u001b[31m\u001b[1m\u001b[31m\u001b[1m\u001b[31m\u001b[1m\u001b[31m\u001b[1m\u001b[31m\u001b[1m\u001b[31m\u001b[1m\u001b[31m\u001b[1m\u001b[31m\u001b[1m\u001b[31m\u001b[1m\u001b[31m\u001b[1m\u001b[31m\u001b[1m\u001b[31m\u001b[1m\u001b[31m\u001b[1m\u001b[31m\u001b[1m\u001b[31m\u001b[1m\u001b[31m\u001b[1m\u001b[31m\u001b[1m\u001b[31m\u001b[1m\u001b[31m\u001b[1m\u001b[31m\u001b[1m\u001b[31m\u001b[1m\u001b[31m\u001b[1m\u001b[31m\u001b[1m\u001b[31m\u001b[1m\u001b[31m\u001b[1m\u001b[31m"
     ]
    },
    {
     "data": {
      "text/plain": [
       "\"ThreePhotons\""
      ]
     },
     "execution_count": 153,
     "metadata": {},
     "output_type": "execute_result"
    }
   ],
   "source": [
    "creload(\"ThreePhotons\")"
   ]
  },
  {
   "cell_type": "code",
   "execution_count": 24,
   "metadata": {
    "collapsed": false
   },
   "outputs": [
    {
     "data": {
      "text/plain": [
       ":Max"
      ]
     },
     "execution_count": 24,
     "metadata": {},
     "output_type": "execute_result"
    }
   ],
   "source": [
    "#Tried nonlinear optimization for inversion of two-photon correlation\n",
    "#Didn't work because expressions are too complex for @NLobjective\n",
    "# using JuMP\n",
    "# using Ipopt\n",
    "\n",
    "# function scalar(A::Array{JuMP.Variable,2}, k1::Int64, k2::Int64, l::Int64, LMAX::Int64)\n",
    "#     vec1 = A[k1,:]\n",
    "#     vec2 = A[k2,:]\n",
    "#     return sum(vec1[seanindex(l,m,LMAX)]*conj(vec2[seanindex(l,m,LMAX)]) for m=-l:l)\n",
    "# end\n",
    "\n",
    "# function kernel(A::Array{JuMP.Variable,2}, k1::Int64, k2::Int64, N::Int64, L::Int64, LMAX::Int64)\n",
    "#     return c2_ewald25_full[:,k2,k1] - \n",
    "#             [(1/(4*pi))*Plm(l,0,alpha_star(alpha, k1, k2, mdq, lambda)) for alpha = alpharange(N), l = 0:2:L]*\n",
    "#             [scalar(A, k1, k2, l, LMAX) for l=0:2:L]\n",
    "# end\n",
    "\n",
    "# K2=18\n",
    "# L=8\n",
    "# m = Model(solver=IpoptSolver())\n",
    "# mdq = dq(intensity_K38)\n",
    "# @variable(m, -1e16 <= A[1:K2,1:num_coeff(LMAX)] <= 1e16)\n",
    "# # @constraint(m, -1e16 <= A[:,:] <= 1e16)\n",
    "# # @constraint(m, sum(A) <= 1e16)\n",
    "# @objective(m, :Min, sum( sum(kernel(A, k1, k2, N, L, LMAX)) for k1=1:K2, k2=1:k1))\n",
    "# # function infocallback(cb)\n",
    "# #     node      = MathProgBase.cbgetexplorednodes(cb)\n",
    "# #     obj       = MathProgBase.cbgetobj(cb)\n",
    "# #     bestbound = MathProgBase.cbgetbestbound(cb)\n",
    "# #     println(bestbound)\n",
    "# # end\n",
    "# # addinfocallback(m, infocallback, when = :Intermediate)\n",
    "# status = solve(m)\n"
   ]
  },
  {
   "cell_type": "code",
   "execution_count": 453,
   "metadata": {
    "collapsed": false
   },
   "outputs": [
    {
     "name": "stderr",
     "output_type": "stream",
     "text": [
      "WARNING: Method definition retrieveSolution_mod(Array{Float64, 3}, Int64, Int64, Base.UnitRange{Int64}, Float64, Float64) in module Main at In[451]:2 overwritten at In[453]:2.\n"
     ]
    },
    {
     "data": {
      "text/plain": [
       "retrieveSolution_mod (generic function with 1 method)"
      ]
     },
     "execution_count": 453,
     "metadata": {},
     "output_type": "execute_result"
    }
   ],
   "source": [
    "function retrieveSolution_mod(c2::C2, L::Int64, LMAX::Int64, K2_range::UnitRange{Int64}, qmax::Float64, lambda::Float64)\n",
    "    N,_,_ = size(c2)\n",
    "    K2 = length(K2_range)\n",
    "    K2_high = maximum(K2_range)\n",
    "    K2_low = minimum(K2_range)\n",
    "    @assert L < K2/2 #2*L+1 = K2\n",
    "\n",
    "    #Create empty Spherical Harmonics volume\n",
    "    intensity = SphericalHarmonicsVolume(LMAX, K2_high, qmax)\n",
    "    println(\"Extracting solution over K2_range=$(K2_range) with K2=$(K2) and L=$L and qmax=$qmax.\")\n",
    "    mdq = dq(intensity)\n",
    "    eigenvecs = Dict()\n",
    "    eigenvals = Dict()\n",
    "    Gmatrices = Dict()\n",
    "\n",
    "    for l = 0:2:L\n",
    "        G = zeros(Float64, K2, K2)\n",
    "        for k1 in K2_range\n",
    "            for k2 = K2_low:k1\n",
    "                slice = c2[:,k2,k1]\n",
    "\n",
    "                #symmetrize 2 photon correlation if lambda = 0.0\n",
    "                if lambda == 0.0\n",
    "                    slice = 0.5*(slice + reverse(slice))\n",
    "                end\n",
    "                upperL = min(L, min(k1,k2)*2-2)\n",
    "                A = Float64[ (1/(4*pi))*Plm(l,0,alpha_star(alpha, k1, k2, mdq, lambda)) for alpha = alpharange(N), l = 0:2:upperL]\n",
    "                #This inversion is stable\n",
    "                fac = A \\ slice\n",
    "#                 println(\"$l $k1 $k2\")\n",
    "                if l <= upperL\n",
    "                    val = fac[round(Int64,l/2)+1]\n",
    "                    G[k2-K2_low+1,k1-K2_low+1] = val\n",
    "                    G[k1-K2_low+1,k2-K2_low+1] = val\n",
    "                end\n",
    "            end\n",
    "        end\n",
    "        #Diagonalize the matrix\n",
    "        F = eigfact(Symmetric(G),K2-(2*l+1)+1:K2)\n",
    "        # F = eigfact(G, permute=true, scale=false)\n",
    "\n",
    "        eigenval, eigenvectors = F[:values], F[:vectors]\n",
    "\n",
    "        #Calculate the vectors\n",
    "        eigenvalmatrix = diagm(sqrt(max(0.0, eigenval)))\n",
    "        eigenvecs[l] = eigenvectors'\n",
    "        eigenvals[l] = eigenvalmatrix\n",
    "        Gmatrices[l] = G\n",
    "        m = eigenvalmatrix*eigenvectors'\n",
    "\n",
    "        for k in K2_range\n",
    "            cvec_set(intensity,k,l,(m[:,k-K2_low+1]))\n",
    "            # vec = m[K2-(2*l):K2,k]\n",
    "            # cvec_set(intensity,k,l, vec)\n",
    "        end\n",
    "    end\n",
    "\n",
    "    intensity = real_to_comp(intensity)\n",
    "\n",
    "    if negativityCheck(intensity) > 0.33\n",
    "        for k = 1:intensity.KMAX intensity.coeff[k] *= -1.0 end\n",
    "    end\n",
    "\n",
    "    return intensity,eigenvecs,eigenvals,Gmatrices\n",
    "end"
   ]
  },
  {
   "cell_type": "code",
   "execution_count": 454,
   "metadata": {
    "collapsed": false,
    "scrolled": false
   },
   "outputs": [
    {
     "name": "stdout",
     "output_type": "stream",
     "text": [
      "Extracting solution over K2_range=1:38 with K2=38 and L=18 and qmax=3.141592653589793.\n"
     ]
    },
    {
     "data": {
      "text/html": [
       "0.2769004036086113"
      ],
      "text/plain": [
       "0.2769004036086113"
      ]
     },
     "execution_count": 454,
     "metadata": {},
     "output_type": "execute_result"
    }
   ],
   "source": [
    "lambda = 2.5\n",
    "c2_theo_lambda = twoPhotons(intensity_K38, BasisType(N,L,LMAX,K3,lambda,dq(intensity_K38)), K2, true, false)\n",
    "# c2ref = c2_theo_lambda\n",
    "c2ref = c2_ewald25_full#add_Gaussian_filter(c2_ewald25_full,0.5)\n",
    "\n",
    "intensity_lambda,eigenvecs,eigenvals,Gmatrices = retrieveSolution_mod(c2ref, L, LMAX, 1:K2, qmax(K2, float(rmax)), lambda)\n",
    "# intensity_lambda = retrieveSolution(c2_theo_lambda, L, LMAX, 1:K2, qmax(K2, float(rmax)), lambda)\n",
    "\n",
    "c2_theo_lambda_exp = twoPhotons(intensity_lambda, BasisType(N,L,LMAX,K3,lambda,dq(intensity_lambda)), K2, true, false)\n",
    "\n",
    "# saveCube(deleteTerms(intensity_lambda,K3,L), \"test_lambda_$(lambda).mrc\")\n",
    "# saveCube(intensity_lambda, \"test_lambda_$(lambda)_nocut.mrc\")\n",
    "\n",
    "# checkRotationSearch(deleteTerms(intensity_lambda, K3, L), intensity_K38, 1:K3, L, BasisType(N,L,LMAX,K3,lambda,dq(intensity_K38)); iterations=1.4e4, reduce_stepsize=1000, plotting=false, include_negativity=false, energy=(x)->0.0, save_structures=true)\n",
    "c2_difference(c2_ewald25_full, c2_theo_lambda_exp, 1:K2)"
   ]
  },
  {
   "cell_type": "code",
   "execution_count": 455,
   "metadata": {
    "collapsed": false
   },
   "outputs": [
    {
     "data": {
      "text/plain": [
       "38×38 Array{Float64,2}:\n",
       "  8.67751e-18   9.51078e-14  …      3.67208e-8       2.20451e-8 \n",
       "  9.51078e-14   4.3926e-9           0.000200019      0.000430601\n",
       "  4.13858e-11   1.90691e-6          0.0984732        0.193741   \n",
       "  2.28996e-9    0.000105052         6.43727         11.2457     \n",
       "  3.71879e-8    0.00169225        128.695          194.656      \n",
       "  2.52888e-7    0.0113269    …   1124.73          1437.17       \n",
       "  8.49217e-7    0.0367425        5107.69          5359.62       \n",
       "  1.49984e-6    0.0592591       13023.9          10812.3        \n",
       "  1.41283e-6    0.040269        18739.3          11825.7        \n",
       "  9.24209e-7    0.00300223      13763.8           7375.02       \n",
       "  1.07614e-6    0.0105434    …   3061.64          5412.97       \n",
       "  1.06871e-6    0.0299823       -1071.6           5099.6        \n",
       " -6.57903e-8    0.00160432         70.8749        -996.501      \n",
       "  ⋮                          ⋱                                  \n",
       "  7.90735e-8    0.00254503       -900.464         -109.854      \n",
       "  3.16765e-8    0.00218903      -2457.65          -292.858      \n",
       " -1.79384e-8    0.000940727     -2425.91          -327.767      \n",
       " -1.01802e-7   -0.00169421      -1679.55          -260.672      \n",
       " -1.5178e-7    -0.00292629   …  -1004.97          -535.376      \n",
       " -1.09144e-7   -0.00200372       -292.37          -627.831      \n",
       " -2.64068e-8   -0.000617775       682.707          270.934      \n",
       "  5.95972e-9    0.000292282      1026.24           897.945      \n",
       "  2.26053e-9    0.000442966      1059.74           532.058      \n",
       "  2.14239e-8    0.000194092  …   2024.57           729.07       \n",
       "  3.67208e-8    0.000200019      2593.82          1630.37       \n",
       "  2.20451e-8    0.000430601      1630.37          1757.5        "
      ]
     },
     "execution_count": 455,
     "metadata": {},
     "output_type": "execute_result"
    }
   ],
   "source": [
    "G_alt = [real(Base.dot( cvec_get(intensity_K38, k1, l), cvec_get(intensity_K38, k2, l))) for k1=1:K2, k2=1:K2]"
   ]
  },
  {
   "cell_type": "code",
   "execution_count": 456,
   "metadata": {
    "collapsed": false
   },
   "outputs": [
    {
     "data": {
      "image/png": "[encoded data removed]",
      "text/plain": [
       "PyPlot.Figure(PyObject <matplotlib.figure.Figure object at 0x34d565910>)"
      ]
     },
     "metadata": {},
     "output_type": "display_data"
    },
    {
     "data": {
      "text/plain": [
       "PyObject <matplotlib.colorbar.Colorbar object at 0x350494410>"
      ]
     },
     "execution_count": 456,
     "metadata": {},
     "output_type": "execute_result"
    }
   ],
   "source": [
    "imshow(abs(G_alt).^0.25, cmap=\"hot\")\n",
    "colorbar()"
   ]
  },
  {
   "cell_type": "code",
   "execution_count": 457,
   "metadata": {
    "collapsed": false
   },
   "outputs": [
    {
     "data": {
      "image/png": "[encoded data removed]",
      "text/plain": [
       "PyPlot.Figure(PyObject <matplotlib.figure.Figure object at 0x3504920d0>)"
      ]
     },
     "metadata": {},
     "output_type": "display_data"
    },
    {
     "data": {
      "text/plain": [
       "PyObject <matplotlib.colorbar.Colorbar object at 0x353307b50>"
      ]
     },
     "execution_count": 457,
     "metadata": {},
     "output_type": "execute_result"
    }
   ],
   "source": [
    "imshow(abs(Gmatrices[l]).^0.25, cmap=\"hot\")\n",
    "colorbar()"
   ]
  },
  {
   "cell_type": "code",
   "execution_count": 458,
   "metadata": {
    "collapsed": false
   },
   "outputs": [
    {
     "data": {
      "text/plain": [
       "38×38 Array{Complex{Float64},2}:\n",
       " 0.0-0.0im        0.0-0.0im       …         0.0-0.0im        0.0-0.0im\n",
       " 0.0-0.0im        0.0-0.0im                 0.0-0.0im        0.0-0.0im\n",
       " 0.0-0.0im        0.0-0.0im                 0.0-0.0im        0.0-0.0im\n",
       " 0.0-0.0im        0.0-0.0im                 0.0-0.0im        0.0-0.0im\n",
       " 0.0-0.0im        0.0-0.0im                 0.0-0.0im        0.0-0.0im\n",
       " 0.0-0.0im        0.0-0.0im       …         0.0-0.0im        0.0-0.0im\n",
       " 0.0-0.0im        0.0-0.0im                 0.0-0.0im        0.0-0.0im\n",
       " 0.0-0.0im        0.0-0.0im                 0.0-0.0im        0.0-0.0im\n",
       " 0.0-5.42958im    0.0+4.87217im         25.7066-0.0im    24.2465-0.0im\n",
       " 0.0+6.99915im    0.0-4.76809im         25.4404-0.0im    31.0075-0.0im\n",
       " 0.0-5.03712im    0.0-1.10207im   …     14.7406-0.0im    37.5309-0.0im\n",
       " 0.0+5.19124im    0.0+3.00583im         5.38194-0.0im    33.0639-0.0im\n",
       " 0.0-5.05818im    0.0-3.75793im         6.23286-0.0im    15.4852-0.0im\n",
       "    ⋮                             ⋱                                   \n",
       " 0.0+0.986408im   0.0-1.0903im         0.589828-0.0im  -0.457197-0.0im\n",
       " 0.0-1.15999im    0.0+2.31202im       -0.523632-0.0im  -0.409463-0.0im\n",
       " 0.0-4.0243im     0.0+1.38097im        -1.58102-0.0im    -1.2092-0.0im\n",
       " 0.0-0.352366im   0.0+0.821881im      -0.913352-0.0im   -1.72126-0.0im\n",
       " 0.0+1.09225im    0.0-0.771887im  …  -0.0311375-0.0im   -2.06784-0.0im\n",
       " 0.0-0.991581im   0.0-3.40127im        0.775104-0.0im   -1.36689-0.0im\n",
       " 0.0-0.0811175im  0.0-0.837372im       0.968837-0.0im   0.226236-0.0im\n",
       " 0.0-0.399908im   0.0-2.0666im          1.22512-0.0im   -0.13222-0.0im\n",
       " 0.0-4.07312im    0.0+3.89856im      0.00341309-0.0im   -1.76341-0.0im\n",
       " 0.0-2.92842im    0.0-3.89708im   …    -2.02851-0.0im   -2.76055-0.0im\n",
       " 0.0+3.16485im    0.0+3.5198im         -0.20484-0.0im  -0.276543-0.0im\n",
       " 0.0-4.60719im    0.0-2.94986im       0.0227375-0.0im    0.18798-0.0im"
      ]
     },
     "execution_count": 458,
     "metadata": {},
     "output_type": "execute_result"
    }
   ],
   "source": [
    "l = 16\n",
    "res = eigfact((Gmatrices[l]))\n",
    "eigenval, eigenvectors = res[:values], res[:vectors]\n",
    "eigenvalmatrix = diagm(sqrt(complex(eigenval)))\n",
    "F = (eigenvalmatrix*eigenvectors')'"
   ]
  },
  {
   "cell_type": "code",
   "execution_count": 459,
   "metadata": {
    "collapsed": false
   },
   "outputs": [
    {
     "data": {
      "image/png": "[encoded data removed]",
      "text/plain": [
       "PyPlot.Figure(PyObject <matplotlib.figure.Figure object at 0x35210ffd0>)"
      ]
     },
     "metadata": {},
     "output_type": "display_data"
    },
    {
     "data": {
      "text/plain": [
       "PyObject <matplotlib.colorbar.Colorbar object at 0x3537da250>"
      ]
     },
     "execution_count": 459,
     "metadata": {},
     "output_type": "execute_result"
    }
   ],
   "source": [
    "imshow(abs(F*F').^(0.25), cmap=\"hot\")\n",
    "colorbar()"
   ]
  },
  {
   "cell_type": "code",
   "execution_count": 460,
   "metadata": {
    "collapsed": false
   },
   "outputs": [
    {
     "data": {
      "image/png": "[encoded data removed]",
      "text/plain": [
       "PyPlot.Figure(PyObject <matplotlib.figure.Figure object at 0x3530ff350>)"
      ]
     },
     "metadata": {},
     "output_type": "display_data"
    },
    {
     "name": "stdout",
     "output_type": "stream",
     "text": [
      "214.91446807554166\n"
     ]
    },
    {
     "data": {
      "text/plain": [
       "10-element Array{Float64,1}:\n",
       "     3.00307e5\n",
       " 39340.9      \n",
       " 64898.1      \n",
       " 70226.8      \n",
       " 61171.2      \n",
       " 44257.2      \n",
       " 26205.5      \n",
       " 12557.7      \n",
       "  4381.81     \n",
       "   956.21     "
      ]
     },
     "execution_count": 460,
     "metadata": {},
     "output_type": "execute_result"
    }
   ],
   "source": [
    "k1 = 36\n",
    "k2 = 2\n",
    "slice = c2ref[:,k2,k1]\n",
    "A = Float64[ (1/(4*pi))*Plm(l,0,alpha_star(alpha, k1, k2, mdq, lambda)) for alpha = alpharange(N), l = 0:2:L]\n",
    "fac = A \\ slice\n",
    "plot(slice, label=\"Slice\")\n",
    "plot(A*fac)\n",
    "println(sumabs(A*fac-slice))\n",
    "fac"
   ]
  },
  {
   "cell_type": "code",
   "execution_count": 429,
   "metadata": {
    "collapsed": false
   },
   "outputs": [
    {
     "name": "stdout",
     "output_type": "stream",
     "text": [
      "done\n"
     ]
    }
   ],
   "source": [
    "orig = c2_ewald25_full\n",
    "fitted = c2_theo_lambda_exp\n",
    "theo = c2_theo_lambda\n",
    "println(\"done\")"
   ]
  },
  {
   "cell_type": "code",
   "execution_count": 430,
   "metadata": {
    "collapsed": false,
    "scrolled": false
   },
   "outputs": [
    {
     "data": {
      "text/html": [],
      "text/plain": [
       "Interact.Options{:SelectionSlider,Any}(113: \"input-49\" = 19 Any ,\"k1\",19,\"19\",19,Interact.OptionDict(DataStructures.OrderedDict{Any,Any}(\"1\"=>1,\"2\"=>2,\"3\"=>3,\"4\"=>4,\"5\"=>5,\"6\"=>6,\"7\"=>7,\"8\"=>8,\"9\"=>9,\"10\"=>10…),Dict{Any,Any}(Pair{Any,Any}(18,\"18\"),Pair{Any,Any}(30,\"30\"),Pair{Any,Any}(33,\"33\"),Pair{Any,Any}(32,\"32\"),Pair{Any,Any}(2,\"2\"),Pair{Any,Any}(16,\"16\"),Pair{Any,Any}(11,\"11\"),Pair{Any,Any}(21,\"21\"),Pair{Any,Any}(7,\"7\"),Pair{Any,Any}(9,\"9\")…)),Any[],Any[],true,\"horizontal\")"
      ]
     },
     "metadata": {},
     "output_type": "display_data"
    },
    {
     "data": {
      "text/html": [],
      "text/plain": [
       "Interact.Options{:SelectionSlider,Any}(115: \"input-50\" = 19 Any ,\"k2\",19,\"19\",19,Interact.OptionDict(DataStructures.OrderedDict{Any,Any}(\"1\"=>1,\"2\"=>2,\"3\"=>3,\"4\"=>4,\"5\"=>5,\"6\"=>6,\"7\"=>7,\"8\"=>8,\"9\"=>9,\"10\"=>10…),Dict{Any,Any}(Pair{Any,Any}(18,\"18\"),Pair{Any,Any}(30,\"30\"),Pair{Any,Any}(33,\"33\"),Pair{Any,Any}(32,\"32\"),Pair{Any,Any}(2,\"2\"),Pair{Any,Any}(16,\"16\"),Pair{Any,Any}(11,\"11\"),Pair{Any,Any}(21,\"21\"),Pair{Any,Any}(7,\"7\"),Pair{Any,Any}(9,\"9\")…)),Any[],Any[],true,\"horizontal\")"
      ]
     },
     "metadata": {},
     "output_type": "display_data"
    },
    {
     "data": {
      "text/html": [],
      "text/plain": [
       "Interact.Checkbox(117: \"input-51\" = true Bool ,\"normalization\",true)"
      ]
     },
     "metadata": {},
     "output_type": "display_data"
    },
    {
     "data": {
      "image/png": "[encoded data removed]",
      "text/plain": [
       "PyPlot.Figure(PyObject <matplotlib.figure.Figure object at 0x3507ac150>)"
      ]
     },
     "execution_count": 430,
     "metadata": {
      "comm_id": "4b504bce-4e64-45d7-943e-914a0090a433",
      "reactive": true
     },
     "output_type": "execute_result"
    }
   ],
   "source": [
    "# plot_single_2photon_slice(Dict(\"original\"=>c2_theo_lambda4, \"fitted\"=>c2_theo_lambda4_exp), 28, 17)\n",
    "plot_random_2photon_slices(Dict(\"original\"=>orig/sumabs(orig), \"fitted\"=>fitted/sumabs(fitted), \"theo\"=>theo/sumabs(theo)))\n",
    "# plot_random_2photon_slices(Dict(\"original\"=>orig/sumabs(orig), \"fitted\"=>fitted/sumabs(fitted)))"
   ]
  },
  {
   "cell_type": "code",
   "execution_count": null,
   "metadata": {
    "collapsed": true
   },
   "outputs": [],
   "source": []
  },
  {
   "cell_type": "code",
   "execution_count": null,
   "metadata": {
    "collapsed": true
   },
   "outputs": [],
   "source": []
  },
  {
   "cell_type": "code",
   "execution_count": null,
   "metadata": {
    "collapsed": true
   },
   "outputs": [],
   "source": []
  },
  {
   "cell_type": "code",
   "execution_count": null,
   "metadata": {
    "collapsed": true
   },
   "outputs": [],
   "source": []
  },
  {
   "cell_type": "code",
   "execution_count": null,
   "metadata": {
    "collapsed": false
   },
   "outputs": [],
   "source": [
    "creload(ThreePhotons)"
   ]
  },
  {
   "cell_type": "code",
   "execution_count": null,
   "metadata": {
    "collapsed": false
   },
   "outputs": [],
   "source": [
    "basis = calculate_basis(L, LMAX, N, K, lambda, dq(intensity_K38))\n",
    "# CUDA_init()\n",
    "# d_basis = CUDA_store_basis(basis)\n",
    "println(\"Done\")"
   ]
  },
  {
   "cell_type": "code",
   "execution_count": null,
   "metadata": {
    "collapsed": false
   },
   "outputs": [],
   "source": [
    "c3_ewald_theo = FullCorrelation_parallized(intensity_K38, basis, true, false, false)\n",
    "println(\"done\")"
   ]
  },
  {
   "cell_type": "code",
   "execution_count": 61,
   "metadata": {
    "collapsed": false,
    "scrolled": false
   },
   "outputs": [
    {
     "data": {
      "text/html": [],
      "text/plain": [
       "Interact.Options{:SelectionSlider,Any}(58: \"input-26\" = 19 Any ,\"k1\",19,\"19\",19,Interact.OptionDict(DataStructures.OrderedDict{Any,Any}(\"1\"=>1,\"2\"=>2,\"3\"=>3,\"4\"=>4,\"5\"=>5,\"6\"=>6,\"7\"=>7,\"8\"=>8,\"9\"=>9,\"10\"=>10…),Dict{Any,Any}(Pair{Any,Any}(18,\"18\"),Pair{Any,Any}(30,\"30\"),Pair{Any,Any}(33,\"33\"),Pair{Any,Any}(32,\"32\"),Pair{Any,Any}(2,\"2\"),Pair{Any,Any}(16,\"16\"),Pair{Any,Any}(11,\"11\"),Pair{Any,Any}(21,\"21\"),Pair{Any,Any}(7,\"7\"),Pair{Any,Any}(9,\"9\")…)),Any[],Any[],true,\"horizontal\")"
      ]
     },
     "metadata": {},
     "output_type": "display_data"
    },
    {
     "data": {
      "text/html": [],
      "text/plain": [
       "Interact.Options{:SelectionSlider,Any}(60: \"input-27\" = 19 Any ,\"k2\",19,\"19\",19,Interact.OptionDict(DataStructures.OrderedDict{Any,Any}(\"1\"=>1,\"2\"=>2,\"3\"=>3,\"4\"=>4,\"5\"=>5,\"6\"=>6,\"7\"=>7,\"8\"=>8,\"9\"=>9,\"10\"=>10…),Dict{Any,Any}(Pair{Any,Any}(18,\"18\"),Pair{Any,Any}(30,\"30\"),Pair{Any,Any}(33,\"33\"),Pair{Any,Any}(32,\"32\"),Pair{Any,Any}(2,\"2\"),Pair{Any,Any}(16,\"16\"),Pair{Any,Any}(11,\"11\"),Pair{Any,Any}(21,\"21\"),Pair{Any,Any}(7,\"7\"),Pair{Any,Any}(9,\"9\")…)),Any[],Any[],true,\"horizontal\")"
      ]
     },
     "metadata": {},
     "output_type": "display_data"
    },
    {
     "data": {
      "text/html": [],
      "text/plain": [
       "Interact.Options{:SelectionSlider,Any}(62: \"input-28\" = 19 Any ,\"k3\",19,\"19\",19,Interact.OptionDict(DataStructures.OrderedDict{Any,Any}(\"1\"=>1,\"2\"=>2,\"3\"=>3,\"4\"=>4,\"5\"=>5,\"6\"=>6,\"7\"=>7,\"8\"=>8,\"9\"=>9,\"10\"=>10…),Dict{Any,Any}(Pair{Any,Any}(18,\"18\"),Pair{Any,Any}(30,\"30\"),Pair{Any,Any}(33,\"33\"),Pair{Any,Any}(32,\"32\"),Pair{Any,Any}(2,\"2\"),Pair{Any,Any}(16,\"16\"),Pair{Any,Any}(11,\"11\"),Pair{Any,Any}(21,\"21\"),Pair{Any,Any}(7,\"7\"),Pair{Any,Any}(9,\"9\")…)),Any[],Any[],true,\"horizontal\")"
      ]
     },
     "metadata": {},
     "output_type": "display_data"
    },
    {
     "data": {
      "text/html": [],
      "text/plain": [
       "Interact.Checkbox(64: \"input-29\" = true Bool ,\"normalization\",true)"
      ]
     },
     "metadata": {},
     "output_type": "display_data"
    },
    {
     "data": {
      "image/png": "[encoded data removed]",
      "text/plain": [
       "PyPlot.Figure(PyObject <matplotlib.figure.Figure object at 0x32ddb6850>)"
      ]
     },
     "execution_count": 61,
     "metadata": {
      "comm_id": "336c2ed3-547c-473d-bf5b-6afd7bfb77fc",
      "reactive": true
     },
     "output_type": "execute_result"
    }
   ],
   "source": [
    "plot_random_3photon_slices(Dict(\"c3_ewald0\"=>c3_ewald0,\n",
    "#         \"ewald_theo\"=>c3_ewald_theo\n",
    "        ))"
   ]
  },
  {
   "cell_type": "code",
   "execution_count": null,
   "metadata": {
    "collapsed": true
   },
   "outputs": [],
   "source": []
  }
 ],
 "metadata": {
  "kernelspec": {
   "display_name": "Julia 0.5.2",
   "language": "julia",
   "name": "julia-0.5"
  },
  "language_info": {
   "file_extension": ".jl",
   "mimetype": "application/julia",
   "name": "julia",
   "version": "0.5.2"
  },
  "widgets": {
   "state": {
    "00df2193-14e3-4394-a338-c19e227ca45c": {
     "views": [
      {
       "cell_index": 21
      }
     ]
    },
    "01a27c5c-fa18-48f3-8a7c-636b8956e952": {
     "views": [
      {
       "cell_index": 21
      }
     ]
    },
    "020891ab-e81f-4a76-911a-0d37d19a7575": {
     "views": [
      {
       "cell_index": 21
      }
     ]
    },
    "03a85312-9a2f-489d-8382-8cd0277540ab": {
     "views": [
      {
       "cell_index": 21
      }
     ]
    },
    "040842c3-1267-4240-9a1a-11d9810e2fa3": {
     "views": [
      {
       "cell_index": 21
      }
     ]
    },
    "05d4d636-8be5-424a-bd03-cc0bad28756c": {
     "views": [
      {
       "cell_index": 81
      }
     ]
    },
    "0b2ecf23-9dcc-4d56-8256-765b45ed35e8": {
     "views": [
      {
       "cell_index": 21
      }
     ]
    },
    "0deae41d-4f37-478a-bf26-1d8a8a6e89b5": {
     "views": [
      {
       "cell_index": 89
      }
     ]
    },
    "1e205a5b-867e-47b9-943a-d30b909c1b3c": {
     "views": [
      {
       "cell_index": 22
      }
     ]
    },
    "28b198ca-8baa-40b0-ada4-b6033ba8e09f": {
     "views": [
      {
       "cell_index": 81
      }
     ]
    },
    "2a5f78b0-5654-432b-bad6-32fc10e7c3d2": {
     "views": [
      {
       "cell_index": 21
      }
     ]
    },
    "2c448bd5-85e0-4ec9-b806-7079fc0dea93": {
     "views": [
      {
       "cell_index": 89
      }
     ]
    },
    "332561e1-9c76-4d80-8723-478fd8e0e56b": {
     "views": [
      {
       "cell_index": 21
      }
     ]
    },
    "3a9c23b1-d30f-4954-a24b-ffcb95fa956e": {
     "views": [
      {
       "cell_index": 19
      }
     ]
    },
    "3da05f8d-1179-4ec7-8ba8-590bd950f9dc": {
     "views": [
      {
       "cell_index": 80
      }
     ]
    },
    "3e287edd-83aa-402f-ab54-c7da091667b9": {
     "views": [
      {
       "cell_index": 81
      }
     ]
    },
    "3f8ec8f0-93e9-4464-bd05-df71639bb5e1": {
     "views": [
      {
       "cell_index": 21
      }
     ]
    },
    "3fc8b3c4-4cec-4e0f-8d8f-62d17bcd8894": {
     "views": [
      {
       "cell_index": 80
      }
     ]
    },
    "405be2a8-5ce4-4465-ac3e-a29e813c6e82": {
     "views": [
      {
       "cell_index": 80
      }
     ]
    },
    "44088eb9-217a-4828-a2dc-febef6ece7eb": {
     "views": [
      {
       "cell_index": 89
      }
     ]
    },
    "4d59dba6-942a-409d-a6d8-9a829a1fdd53": {
     "views": [
      {
       "cell_index": 81
      }
     ]
    },
    "4e92cf41-b861-4df1-a830-809da738318a": {
     "views": [
      {
       "cell_index": 80
      }
     ]
    },
    "50918963-2e71-4c63-a332-4a2061f75e76": {
     "views": [
      {
       "cell_index": 22
      }
     ]
    },
    "52cb50d0-62f9-41a7-8740-d7a0fddddbbc": {
     "views": [
      {
       "cell_index": 88
      }
     ]
    },
    "57129322-7a4d-44f1-b7e5-6f8a81da5d7d": {
     "views": [
      {
       "cell_index": 21
      }
     ]
    },
    "58094548-4ee2-4acf-85b7-09722a75c03c": {
     "views": [
      {
       "cell_index": 19
      }
     ]
    },
    "5ba2de5b-2ced-4626-a70f-ada49d3d4862": {
     "views": [
      {
       "cell_index": 21
      }
     ]
    },
    "5e2f01ed-ce7a-4353-8f59-977267f050a1": {
     "views": [
      {
       "cell_index": 80
      }
     ]
    },
    "5ffb333a-8cd2-4a7d-8d6f-ff0e6cb22b51": {
     "views": [
      {
       "cell_index": 81
      }
     ]
    },
    "5ffee864-cf12-49fc-9176-f72a1e6bad23": {
     "views": [
      {
       "cell_index": 80
      }
     ]
    },
    "6138308f-8bc6-48e8-9b39-b3e095c456c5": {
     "views": [
      {
       "cell_index": 21
      }
     ]
    },
    "637fcbe9-76de-48d1-8474-a3571faf29d7": {
     "views": [
      {
       "cell_index": 80
      }
     ]
    },
    "64e733a6-5813-4ee5-9cb1-f822fa0cac99": {
     "views": [
      {
       "cell_index": 81
      }
     ]
    },
    "67c0cc79-ab1f-4db5-92e9-a17fdc5f02b8": {
     "views": [
      {
       "cell_index": 22
      }
     ]
    },
    "6825b227-6ccf-48a4-8138-ac62afb4dc4a": {
     "views": [
      {
       "cell_index": 81
      }
     ]
    },
    "6a3f3d2a-c00d-4051-bda5-da519c68a0e0": {
     "views": [
      {
       "cell_index": 88
      }
     ]
    },
    "7061a416-f2e4-400f-8c0f-4fbd10decc36": {
     "views": [
      {
       "cell_index": 88
      }
     ]
    },
    "73d6ce50-6c2d-4dca-9927-9491156fc2e5": {
     "views": [
      {
       "cell_index": 88
      }
     ]
    },
    "741580ad-ff0f-47eb-aaae-5b74bb6d6fb1": {
     "views": [
      {
       "cell_index": 88
      }
     ]
    },
    "754a043f-1764-435c-873d-895438353833": {
     "views": [
      {
       "cell_index": 80
      }
     ]
    },
    "75be73b7-7d8a-4d0c-88d6-4768f061072b": {
     "views": [
      {
       "cell_index": 81
      }
     ]
    },
    "7bb45863-729b-4fcf-a344-42be4a660668": {
     "views": [
      {
       "cell_index": 80
      }
     ]
    },
    "7d103253-33bd-408a-9ee8-25beae11b3a8": {
     "views": [
      {
       "cell_index": 21
      }
     ]
    },
    "7d654876-2586-4c32-98db-ea063a6bdc85": {
     "views": [
      {
       "cell_index": 88
      }
     ]
    },
    "7dd8d37c-d7c2-4424-b1db-dca5f689849b": {
     "views": [
      {
       "cell_index": 15
      }
     ]
    },
    "7fc89605-d7e2-491e-9125-e9c0c0439cf8": {
     "views": [
      {
       "cell_index": 89
      }
     ]
    },
    "819767be-b134-49ce-9f25-5d6e6840ba24": {
     "views": [
      {
       "cell_index": 21
      }
     ]
    },
    "851ecded-d169-42c2-b561-0f7dbf2a2502": {
     "views": [
      {
       "cell_index": 21
      }
     ]
    },
    "852aff39-3d25-4849-93cd-e611634999b2": {
     "views": [
      {
       "cell_index": 80
      }
     ]
    },
    "884cac80-2cc5-4789-b119-ab92c2a413e7": {
     "views": [
      {
       "cell_index": 15
      }
     ]
    },
    "88d68dfb-64f4-483f-a9a5-d4493b0d95a0": {
     "views": [
      {
       "cell_index": 21
      }
     ]
    },
    "89b31d9a-7502-4d9b-a1f9-1585b60beb8a": {
     "views": [
      {
       "cell_index": 11
      }
     ]
    },
    "8a0d2cdf-986c-40b5-86bd-809095b03ef1": {
     "views": [
      {
       "cell_index": 81
      }
     ]
    },
    "8b1256e8-9215-4058-b0d5-4ba0d2218b59": {
     "views": [
      {
       "cell_index": 80
      }
     ]
    },
    "8b25ae29-ae75-45a5-a30b-4ec72c33257c": {
     "views": [
      {
       "cell_index": 81
      }
     ]
    },
    "8c21a57a-8fec-4948-8530-d5fd5851b10f": {
     "views": [
      {
       "cell_index": 80
      }
     ]
    },
    "8decaa29-a2b7-45a1-83a0-fb1c1ffb2194": {
     "views": [
      {
       "cell_index": 88
      }
     ]
    },
    "8e60ee1b-b636-47a1-9152-d3ca6f03a76d": {
     "views": [
      {
       "cell_index": 15
      }
     ]
    },
    "8e7edeba-ec5f-4e78-850e-2a76c57e83a9": {
     "views": [
      {
       "cell_index": 22
      }
     ]
    },
    "91bea661-1467-4377-9a4f-ef32041710e9": {
     "views": [
      {
       "cell_index": 88
      }
     ]
    },
    "9ad2ec8d-ab1d-4359-ae30-56f187e315c1": {
     "views": [
      {
       "cell_index": 15
      }
     ]
    },
    "9bb46b7d-fdb6-4250-a5da-f2b4daa09b0e": {
     "views": [
      {
       "cell_index": 89
      }
     ]
    },
    "a8dc034d-7710-46d5-a83f-c285a8a5479e": {
     "views": [
      {
       "cell_index": 88
      }
     ]
    },
    "aae03677-17bb-4630-95ea-437ee04ddbbe": {
     "views": [
      {
       "cell_index": 80
      }
     ]
    },
    "aef0854d-3b33-43b4-8386-7c3bd46df285": {
     "views": [
      {
       "cell_index": 80
      }
     ]
    },
    "af3a2139-ae66-444f-be69-709b48e8f912": {
     "views": [
      {
       "cell_index": 21
      }
     ]
    },
    "afb90df9-df04-442d-9087-1240bbf14a95": {
     "views": [
      {
       "cell_index": 22
      }
     ]
    },
    "b29e801a-7241-4bcf-8301-3dfd8c9b9948": {
     "views": [
      {
       "cell_index": 80
      }
     ]
    },
    "b3092faf-651c-4d1a-95a0-6c5570fcd17c": {
     "views": [
      {
       "cell_index": 15
      }
     ]
    },
    "b4e730d1-effb-4825-a49f-cd0a90f18a98": {
     "views": [
      {
       "cell_index": 21
      }
     ]
    },
    "b98bb68b-ce35-4abd-95cf-b6f71a3f8964": {
     "views": [
      {
       "cell_index": 80
      }
     ]
    },
    "ba969250-c42a-4f80-8a7f-0d55ed9e26b4": {
     "views": [
      {
       "cell_index": 19
      }
     ]
    },
    "bfa9d959-b8f2-4346-96b9-243c56f7eef9": {
     "views": [
      {
       "cell_index": 11
      }
     ]
    },
    "cd3234dd-7e0e-445f-8457-a5d86ffc7f1e": {
     "views": [
      {
       "cell_index": 11
      }
     ]
    },
    "cd5d9a40-ef9a-4f9d-b860-65900a41ba25": {
     "views": [
      {
       "cell_index": 88
      }
     ]
    },
    "ce87053e-7c48-4c21-87bb-fa2a474ccb28": {
     "views": [
      {
       "cell_index": 80
      }
     ]
    },
    "cf2be0ea-41c7-4e61-8252-3500854c2f31": {
     "views": [
      {
       "cell_index": 15
      }
     ]
    },
    "d4f99165-2788-46ca-87d2-6b8e106eead1": {
     "views": [
      {
       "cell_index": 21
      }
     ]
    },
    "dafb0c12-2347-4039-8d2c-7b5b3b85260d": {
     "views": [
      {
       "cell_index": 21
      }
     ]
    },
    "e32e4163-8be8-4224-83bc-952f5ab94b33": {
     "views": [
      {
       "cell_index": 82
      }
     ]
    },
    "e659983f-96a4-49d8-a50d-0fca58b060ad": {
     "views": [
      {
       "cell_index": 21
      }
     ]
    },
    "e6f035a1-3209-4586-bf0c-192d6583e5ac": {
     "views": [
      {
       "cell_index": 21
      }
     ]
    },
    "e7067870-d690-4956-8635-08bd53bd4897": {
     "views": [
      {
       "cell_index": 81
      }
     ]
    },
    "ee292ac3-e5f4-4224-be03-85bcb43a6704": {
     "views": [
      {
       "cell_index": 80
      }
     ]
    },
    "f17d0c8c-e212-446e-95aa-d230eac16380": {
     "views": [
      {
       "cell_index": 89
      }
     ]
    },
    "f5acdfe4-102d-49b9-be01-7a728b94cebf": {
     "views": [
      {
       "cell_index": 88
      }
     ]
    },
    "fe10de0b-8679-4b79-bf1e-4803a17a13f7": {
     "views": [
      {
       "cell_index": 88
      }
     ]
    },
    "ff0128f0-e686-4a9e-a8bf-a48466c05285": {
     "views": [
      {
       "cell_index": 81
      }
     ]
    }
   },
   "version": "1.2.0"
  }
 },
 "nbformat": 4,
 "nbformat_minor": 2
}
